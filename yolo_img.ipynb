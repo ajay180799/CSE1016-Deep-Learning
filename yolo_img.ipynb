{
 "cells": [
  {
   "cell_type": "code",
   "execution_count": 1,
   "id": "3fb701e1",
   "metadata": {},
   "outputs": [
    {
     "name": "stdout",
     "output_type": "stream",
     "text": [
      "^C\n",
      "\n",
      "Note: you may need to restart the kernel to use updated packages.\n"
     ]
    }
   ],
   "source": [
    "conda create --name yolo_vid1"
   ]
  },
  {
   "cell_type": "code",
   "execution_count": 2,
   "id": "94b3d0e9",
   "metadata": {},
   "outputs": [
    {
     "name": "stdout",
     "output_type": "stream",
     "text": [
      "Requirement already satisfied: opencv-contrib-python in c:\\users\\ajay\\anaconda3\\lib\\site-packages (4.6.0.66)\n",
      "Requirement already satisfied: numpy>=1.19.3 in c:\\users\\ajay\\anaconda3\\lib\\site-packages (from opencv-contrib-python) (1.21.5)\n",
      "Note: you may need to restart the kernel to use updated packages.\n"
     ]
    }
   ],
   "source": [
    "pip install opencv-contrib-python"
   ]
  },
  {
   "cell_type": "code",
   "execution_count": 3,
   "id": "77570f3c",
   "metadata": {},
   "outputs": [
    {
     "name": "stdout",
     "output_type": "stream",
     "text": [
      "Requirement already satisfied: conda in c:\\users\\ajay\\anaconda3\\lib\\site-packages (22.9.0)\n",
      "Requirement already satisfied: pycosat>=0.6.3 in c:\\users\\ajay\\anaconda3\\lib\\site-packages (from conda) (0.6.3)\n",
      "Requirement already satisfied: requests>=2.20.1 in c:\\users\\ajay\\anaconda3\\lib\\site-packages (from conda) (2.28.1)\n",
      "Requirement already satisfied: ruamel_yaml_conda>=0.11.14 in c:\\users\\ajay\\anaconda3\\lib\\site-packages (from conda) (0.15.100)\n",
      "Requirement already satisfied: menuinst in c:\\users\\ajay\\anaconda3\\lib\\site-packages (from conda) (1.4.19)\n",
      "Requirement already satisfied: urllib3<1.27,>=1.21.1 in c:\\users\\ajay\\anaconda3\\lib\\site-packages (from requests>=2.20.1->conda) (1.26.11)\n",
      "Requirement already satisfied: charset-normalizer<3,>=2 in c:\\users\\ajay\\anaconda3\\lib\\site-packages (from requests>=2.20.1->conda) (2.0.4)\n",
      "Requirement already satisfied: certifi>=2017.4.17 in c:\\users\\ajay\\anaconda3\\lib\\site-packages (from requests>=2.20.1->conda) (2022.9.14)\n",
      "Requirement already satisfied: idna<4,>=2.5 in c:\\users\\ajay\\anaconda3\\lib\\site-packages (from requests>=2.20.1->conda) (3.3)\n",
      "Note: you may need to restart the kernel to use updated packages.\n"
     ]
    }
   ],
   "source": [
    "pip install conda"
   ]
  },
  {
   "cell_type": "code",
   "execution_count": null,
   "id": "4aa27887",
   "metadata": {},
   "outputs": [],
   "source": []
  },
  {
   "cell_type": "code",
   "execution_count": 3,
   "id": "c863fca3",
   "metadata": {},
   "outputs": [
    {
     "name": "stdout",
     "output_type": "stream",
     "text": [
      "Requirement already satisfied: conda in c:\\users\\ajay\\anaconda3\\lib\\site-packages (22.9.0)\n",
      "Requirement already satisfied: pycosat>=0.6.3 in c:\\users\\ajay\\anaconda3\\lib\\site-packages (from conda) (0.6.3)\n",
      "Requirement already satisfied: requests>=2.20.1 in c:\\users\\ajay\\anaconda3\\lib\\site-packages (from conda) (2.28.1)\n",
      "Requirement already satisfied: ruamel_yaml_conda>=0.11.14 in c:\\users\\ajay\\anaconda3\\lib\\site-packages (from conda) (0.15.100)\n",
      "Requirement already satisfied: menuinst in c:\\users\\ajay\\anaconda3\\lib\\site-packages (from conda) (1.4.19)\n",
      "Requirement already satisfied: certifi>=2017.4.17 in c:\\users\\ajay\\anaconda3\\lib\\site-packages (from requests>=2.20.1->conda) (2022.9.14)\n",
      "Requirement already satisfied: charset-normalizer<3,>=2 in c:\\users\\ajay\\anaconda3\\lib\\site-packages (from requests>=2.20.1->conda) (2.0.4)\n",
      "Requirement already satisfied: urllib3<1.27,>=1.21.1 in c:\\users\\ajay\\anaconda3\\lib\\site-packages (from requests>=2.20.1->conda) (1.26.11)\n",
      "Requirement already satisfied: idna<4,>=2.5 in c:\\users\\ajay\\anaconda3\\lib\\site-packages (from requests>=2.20.1->conda) (3.3)\n",
      "Note: you may need to restart the kernel to use updated packages.\n"
     ]
    }
   ],
   "source": [
    "%pip install conda"
   ]
  },
  {
   "cell_type": "code",
   "execution_count": 4,
   "id": "388bc045",
   "metadata": {},
   "outputs": [],
   "source": [
    "# import the necessary packages\n",
    "import numpy as np\n",
    "import time\n",
    "import cv2\n",
    "import os"
   ]
  },
  {
   "cell_type": "code",
   "execution_count": 5,
   "id": "13589787",
   "metadata": {},
   "outputs": [
    {
     "name": "stdout",
     "output_type": "stream",
     "text": [
      "^C\n",
      "\n",
      "Note: you may need to restart the kernel to use updated packages.\n"
     ]
    }
   ],
   "source": [
    "conda install git"
   ]
  },
  {
   "cell_type": "code",
   "execution_count": 6,
   "id": "0f264486",
   "metadata": {},
   "outputs": [
    {
     "name": "stderr",
     "output_type": "stream",
     "text": [
      "Cloning into 'darknet'...\n"
     ]
    }
   ],
   "source": [
    "!git clone https://github.com/pjreddie/darknet"
   ]
  },
  {
   "cell_type": "code",
   "execution_count": 7,
   "id": "278b80e9",
   "metadata": {},
   "outputs": [
    {
     "name": "stdout",
     "output_type": "stream",
     "text": [
      "Collecting wget\n",
      "  Downloading wget-3.2.zip (10 kB)\n",
      "  Preparing metadata (setup.py): started\n",
      "  Preparing metadata (setup.py): finished with status 'done'\n",
      "Building wheels for collected packages: wget\n",
      "  Building wheel for wget (setup.py): started\n",
      "  Building wheel for wget (setup.py): finished with status 'done'\n",
      "  Created wheel for wget: filename=wget-3.2-py3-none-any.whl size=9657 sha256=d59b62da25611d9943880a0ef31cdefdab163e053b4a90ea697e93479213b729\n",
      "  Stored in directory: c:\\users\\ajay\\appdata\\local\\pip\\cache\\wheels\\04\\5f\\3e\\46cc37c5d698415694d83f607f833f83f0149e49b3af9d0f38\n",
      "Successfully built wget\n",
      "Installing collected packages: wget\n",
      "Successfully installed wget-3.2\n"
     ]
    }
   ],
   "source": [
    "!pip install wget"
   ]
  },
  {
   "cell_type": "code",
   "execution_count": 8,
   "id": "9bd0ed36",
   "metadata": {},
   "outputs": [
    {
     "name": "stdout",
     "output_type": "stream",
     "text": [
      "^C\n"
     ]
    }
   ],
   "source": [
    "!python -m wget https://pjreddie.com/media/files/yolov3.weights"
   ]
  },
  {
   "cell_type": "code",
   "execution_count": 9,
   "id": "2ff8717a",
   "metadata": {},
   "outputs": [],
   "source": [
    "# parse the arguments\n",
    "\n",
    "args = {\"image\" : \"objects1.jpg\", \"yolo\" : \"yolo_coco\" ,\"confidence\" : 0.5, \"threshold\" : 0.3}"
   ]
  },
  {
   "cell_type": "code",
   "execution_count": 10,
   "id": "dea1960a",
   "metadata": {},
   "outputs": [
    {
     "ename": "FileNotFoundError",
     "evalue": "[Errno 2] No such file or directory: 'yolo_coco\\\\coco.names'",
     "output_type": "error",
     "traceback": [
      "\u001b[1;31m---------------------------------------------------------------------------\u001b[0m",
      "\u001b[1;31mFileNotFoundError\u001b[0m                         Traceback (most recent call last)",
      "\u001b[1;32m~\\AppData\\Local\\Temp\\ipykernel_10360\\3437172468.py\u001b[0m in \u001b[0;36m<module>\u001b[1;34m\u001b[0m\n\u001b[0;32m      1\u001b[0m \u001b[1;31m# load the COCO class labels our YOLO model was trained on\u001b[0m\u001b[1;33m\u001b[0m\u001b[1;33m\u001b[0m\u001b[0m\n\u001b[0;32m      2\u001b[0m \u001b[0mlabelsPath\u001b[0m \u001b[1;33m=\u001b[0m \u001b[0mos\u001b[0m\u001b[1;33m.\u001b[0m\u001b[0mpath\u001b[0m\u001b[1;33m.\u001b[0m\u001b[0msep\u001b[0m\u001b[1;33m.\u001b[0m\u001b[0mjoin\u001b[0m\u001b[1;33m(\u001b[0m\u001b[1;33m[\u001b[0m\u001b[0margs\u001b[0m\u001b[1;33m[\u001b[0m\u001b[1;34m\"yolo\"\u001b[0m\u001b[1;33m]\u001b[0m\u001b[1;33m,\u001b[0m \u001b[1;34m\"coco.names\"\u001b[0m\u001b[1;33m]\u001b[0m\u001b[1;33m)\u001b[0m\u001b[1;33m\u001b[0m\u001b[1;33m\u001b[0m\u001b[0m\n\u001b[1;32m----> 3\u001b[1;33m \u001b[0mLABELS\u001b[0m \u001b[1;33m=\u001b[0m \u001b[0mopen\u001b[0m\u001b[1;33m(\u001b[0m\u001b[0mlabelsPath\u001b[0m\u001b[1;33m)\u001b[0m\u001b[1;33m.\u001b[0m\u001b[0mread\u001b[0m\u001b[1;33m(\u001b[0m\u001b[1;33m)\u001b[0m\u001b[1;33m.\u001b[0m\u001b[0mstrip\u001b[0m\u001b[1;33m(\u001b[0m\u001b[1;33m)\u001b[0m\u001b[1;33m.\u001b[0m\u001b[0msplit\u001b[0m\u001b[1;33m(\u001b[0m\u001b[1;34m\"\\n\"\u001b[0m\u001b[1;33m)\u001b[0m\u001b[1;33m\u001b[0m\u001b[1;33m\u001b[0m\u001b[0m\n\u001b[0m\u001b[0;32m      4\u001b[0m \u001b[1;33m\u001b[0m\u001b[0m\n\u001b[0;32m      5\u001b[0m \u001b[1;31m# initialize a list of colors to represent each possible class label\u001b[0m\u001b[1;33m\u001b[0m\u001b[1;33m\u001b[0m\u001b[0m\n",
      "\u001b[1;31mFileNotFoundError\u001b[0m: [Errno 2] No such file or directory: 'yolo_coco\\\\coco.names'"
     ]
    }
   ],
   "source": [
    "# load the COCO class labels our YOLO model was trained on\n",
    "labelsPath = os.path.sep.join([args[\"yolo\"], \"coco.names\"])\n",
    "LABELS = open(labelsPath).read().strip().split(\"\\n\")\n",
    "\n",
    "# initialize a list of colors to represent each possible class label\n",
    "np.random.seed(42)\n",
    "COLORS = np.random.randint(0, 255, size=(len(LABELS), 3), dtype=\"uint8\")"
   ]
  },
  {
   "cell_type": "code",
   "execution_count": 57,
   "id": "ec2b0dfd",
   "metadata": {},
   "outputs": [
    {
     "name": "stdout",
     "output_type": "stream",
     "text": [
      "[INFO] loading YOLO from disk...\n"
     ]
    }
   ],
   "source": [
    "# derive the paths to the YOLO weights and model configuration\n",
    "weightsPath = os.path.sep.join([args[\"yolo\"], \"yolov3.weights\"])\n",
    "configPath = os.path.sep.join([args[\"yolo\"], \"yolov3.cfg\"])\n",
    "\n",
    "# load our YOLO object detector trained on COCO dataset (80 classes)\n",
    "print(\"[INFO] loading YOLO from disk...\")\n",
    "net = cv2.dnn.readNetFromDarknet(configPath, weightsPath)"
   ]
  },
  {
   "cell_type": "code",
   "execution_count": 58,
   "id": "3acb76a4",
   "metadata": {},
   "outputs": [
    {
     "name": "stdout",
     "output_type": "stream",
     "text": [
      "[INFO] YOLO took 0.694166 seconds\n"
     ]
    }
   ],
   "source": [
    "# load our input image and grab its spatial dimensions\n",
    "image = cv2.imread(args[\"image\"])\n",
    "(H, W) = image.shape[:2]\n",
    "# determine only the *output* layer names that we need from YOLO\n",
    "ln = net.getLayerNames()\n",
    "ln = [ln[i - 1] for i in net.getUnconnectedOutLayers()]\n",
    "# construct a blob from the input image and then perform a forward\n",
    "# pass of the YOLO object detector, giving us our bounding boxes and\n",
    "# associated probabilities\n",
    "blob = cv2.dnn.blobFromImage(image, 1 / 255.0, (416, 416),\n",
    "\tswapRB=True, crop=False)\n",
    "net.setInput(blob)\n",
    "start = time.time()\n",
    "layerOutputs = net.forward(ln)\n",
    "end = time.time()\n",
    "# show timing information on YOLO\n",
    "print(\"[INFO] YOLO took {:.6f} seconds\".format(end - start))"
   ]
  },
  {
   "cell_type": "code",
   "execution_count": 59,
   "id": "0e27b935",
   "metadata": {},
   "outputs": [],
   "source": [
    "# initialize our lists of detected bounding boxes, confidences, and\n",
    "# class IDs, respectively\n",
    "boxes = []\n",
    "confidences = []\n",
    "classIDs = []"
   ]
  },
  {
   "cell_type": "code",
   "execution_count": 60,
   "id": "0482a32a",
   "metadata": {},
   "outputs": [],
   "source": [
    "# loop over each of the layer outputs\n",
    "for output in layerOutputs:\n",
    "\t# loop over each of the detections\n",
    "\tfor detection in output:\n",
    "\t\t# extract the class ID and confidence (i.e., probability) of\n",
    "\t\t# the current object detection\n",
    "\t\tscores = detection[5:]\n",
    "\t\tclassID = np.argmax(scores)\n",
    "\t\tconfidence = scores[classID]\n",
    "\t\t# filter out weak predictions by ensuring the detected\n",
    "\t\t# probability is greater than the minimum probability\n",
    "\t\tif confidence > args[\"confidence\"]:\n",
    "\t\t\t# scale the bounding box coordinates back relative to the\n",
    "\t\t\t# size of the image, keeping in mind that YOLO actually\n",
    "\t\t\t# returns the center (x, y)-coordinates of the bounding\n",
    "\t\t\t# box followed by the boxes' width and height\n",
    "\t\t\tbox = detection[0:4] * np.array([W, H, W, H])\n",
    "\t\t\t(centerX, centerY, width, height) = box.astype(\"int\")\n",
    "\t\t\t# use the center (x, y)-coordinates to derive the top and\n",
    "\t\t\t# and left corner of the bounding box\n",
    "\t\t\tx = int(centerX - (width / 2))\n",
    "\t\t\ty = int(centerY - (height / 2))\n",
    "\t\t\t# update our list of bounding box coordinates, confidences,\n",
    "\t\t\t# and class IDs\n",
    "\t\t\tboxes.append([x, y, int(width), int(height)])\n",
    "\t\t\tconfidences.append(float(confidence))\n",
    "\t\t\tclassIDs.append(classID)"
   ]
  },
  {
   "cell_type": "code",
   "execution_count": 61,
   "id": "1d369d3f",
   "metadata": {},
   "outputs": [],
   "source": [
    "# apply non-maxima suppression to suppress weak, overlapping bounding\n",
    "# boxes\n",
    "idxs = cv2.dnn.NMSBoxes(boxes, confidences, args[\"confidence\"],\n",
    "\targs[\"threshold\"])"
   ]
  },
  {
   "cell_type": "code",
   "execution_count": 62,
   "id": "7d232efb",
   "metadata": {},
   "outputs": [
    {
     "data": {
      "text/plain": [
       "-1"
      ]
     },
     "execution_count": 62,
     "metadata": {},
     "output_type": "execute_result"
    }
   ],
   "source": [
    "# ensure at least one detection exists\n",
    "if len(idxs) > 0:\n",
    "\t# loop over the indexes we are keeping\n",
    "\tfor i in idxs.flatten():\n",
    "\t\t# extract the bounding box coordinates\n",
    "\t\t(x, y) = (boxes[i][0], boxes[i][1])\n",
    "\t\t(w, h) = (boxes[i][2], boxes[i][3])\n",
    "\t\t# draw a bounding box rectangle and label on the image\n",
    "\t\tcolor = [int(c) for c in COLORS[classIDs[i]]]\n",
    "\t\tcv2.rectangle(image, (x, y), (x + w, y + h), color, 2)\n",
    "\t\ttext = \"{}: {:.4f}\".format(LABELS[classIDs[i]], confidences[i])\n",
    "\t\tcv2.putText(image, text, (x, y - 5), cv2.FONT_HERSHEY_SIMPLEX,\n",
    "\t\t\t0.5, color, 2)\n",
    "# show the output image\n",
    "image = cv2.resize(image, (700, 500))  \n",
    "cv2.imshow(\"Image\", image)\n",
    "cv2.waitKey(0)"
   ]
  },
  {
   "cell_type": "code",
   "execution_count": null,
   "id": "37685ca1",
   "metadata": {},
   "outputs": [],
   "source": []
  }
 ],
 "metadata": {
  "kernelspec": {
   "display_name": "Python 3.10.4 64-bit",
   "language": "python",
   "name": "python3"
  },
  "language_info": {
   "codemirror_mode": {
    "name": "ipython",
    "version": 3
   },
   "file_extension": ".py",
   "mimetype": "text/x-python",
   "name": "python",
   "nbconvert_exporter": "python",
   "pygments_lexer": "ipython3",
   "version": "3.10.4"
  },
  "vscode": {
   "interpreter": {
    "hash": "655401cce18542ff0291ac6d94e1b051649840c8aedd95e513915aaaddbfd6e8"
   }
  }
 },
 "nbformat": 4,
 "nbformat_minor": 5
}
