{
 "cells": [
  {
   "cell_type": "markdown",
   "id": "e535592c",
   "metadata": {},
   "source": [
    "06/10/2022\n",
    "\n",
    "20BAI1042\n",
    "\n",
    "A.M.Jhagan\n",
    "\n",
    "CSE1016\n",
    "\n",
    "Lab Assignment : 7\n",
    "\n",
    "Object detection using YOLO Algorithm"
   ]
  },
  {
   "cell_type": "code",
   "execution_count": 2,
   "id": "c9941282",
   "metadata": {},
   "outputs": [
    {
     "name": "stdout",
     "output_type": "stream",
     "text": [
      "Collecting imutilsNote: you may need to restart the kernel to use updated packages.\n",
      "\n",
      "  Using cached imutils-0.5.4-py3-none-any.whl\n",
      "Installing collected packages: imutils\n",
      "Successfully installed imutils-0.5.4\n"
     ]
    }
   ],
   "source": [
    "#pip install imutils"
   ]
  },
  {
   "cell_type": "code",
   "execution_count": 3,
   "id": "f0688c9f",
   "metadata": {},
   "outputs": [],
   "source": [
    "# import the necessary packages\n",
    "import numpy as np\n",
    "import imutils\n",
    "import time\n",
    "import cv2\n",
    "import os"
   ]
  },
  {
   "cell_type": "code",
   "execution_count": 4,
   "id": "2054553b",
   "metadata": {},
   "outputs": [],
   "source": [
    "# parse the arguments\n",
    "\n",
    "args = {\"input\" : \"video.mp4\", \"output\" : \"output_video.mp4\", \"yolo\" : \"yolo_coco\" ,\"confidence\" : 0.5, \"threshold\" : 0.3}"
   ]
  },
  {
   "cell_type": "code",
   "execution_count": 6,
   "id": "506f3544",
   "metadata": {},
   "outputs": [
    {
     "name": "stdout",
     "output_type": "stream",
     "text": [
      "[INFO] loading YOLO from disk...\n"
     ]
    }
   ],
   "source": [
    "labelsPath = os.path.sep.join([args[\"yolo\"], \"coco.names\"])\n",
    "LABELS = open(labelsPath).read().strip().split(\"\\n\")\n",
    "# initialize a list of colors to represent each possible class label\n",
    "np.random.seed(42)\n",
    "COLORS = np.random.randint(0, 255, size=(len(LABELS), 3),\n",
    "\tdtype=\"uint8\")\n",
    "# derive the paths to the YOLO weights and model configuration\n",
    "weightsPath = os.path.sep.join([args[\"yolo\"], \"yolov3.weights\"])\n",
    "configPath = os.path.sep.join([args[\"yolo\"], \"yolov3.cfg\"])\n",
    "# load our YOLO object detector trained on COCO dataset (80 classes)\n",
    "# and determine only the *output* layer names that we need from YOLO\n",
    "print(\"[INFO] loading YOLO from disk...\")\n",
    "net = cv2.dnn.readNetFromDarknet(configPath, weightsPath)\n",
    "ln = net.getLayerNames()\n",
    "ln = [ln[i - 1] for i in net.getUnconnectedOutLayers()]"
   ]
  },
  {
   "cell_type": "code",
   "execution_count": 7,
   "id": "2455b5d0",
   "metadata": {},
   "outputs": [
    {
     "name": "stdout",
     "output_type": "stream",
     "text": [
      "[INFO] 1315 total frames in video\n"
     ]
    }
   ],
   "source": [
    "# initialize the video stream, pointer to output video file, and\n",
    "# frame dimensions\n",
    "vs = cv2.VideoCapture(args[\"input\"])\n",
    "writer = None\n",
    "(W, H) = (None, None)\n",
    "# try to determine the total number of frames in the video file\n",
    "try:\n",
    "\tprop = cv2.cv.CV_CAP_PROP_FRAME_COUNT if imutils.is_cv2() \\\n",
    "\t\telse cv2.CAP_PROP_FRAME_COUNT\n",
    "\ttotal = int(vs.get(prop))\n",
    "\tprint(\"[INFO] {} total frames in video\".format(total))\n",
    "# an error occurred while trying to determine the total\n",
    "# number of frames in the video file\n",
    "except:\n",
    "\tprint(\"[INFO] could not determine # of frames in video\")\n",
    "\tprint(\"[INFO] no approx. completion time can be provided\")\n",
    "\ttotal = -1"
   ]
  },
  {
   "cell_type": "code",
   "execution_count": 8,
   "id": "a7b75e4a",
   "metadata": {},
   "outputs": [
    {
     "name": "stdout",
     "output_type": "stream",
     "text": [
      "[INFO] single frame took 0.6813 seconds\n",
      "[INFO] estimated total time to finish: 895.8918\n"
     ]
    },
    {
     "ename": "KeyboardInterrupt",
     "evalue": "",
     "output_type": "error",
     "traceback": [
      "\u001b[1;31m---------------------------------------------------------------------------\u001b[0m",
      "\u001b[1;31mKeyboardInterrupt\u001b[0m                         Traceback (most recent call last)",
      "Input \u001b[1;32mIn [8]\u001b[0m, in \u001b[0;36m<cell line: 4>\u001b[1;34m()\u001b[0m\n\u001b[0;32m     17\u001b[0m net\u001b[38;5;241m.\u001b[39msetInput(blob)\n\u001b[0;32m     18\u001b[0m start \u001b[38;5;241m=\u001b[39m time\u001b[38;5;241m.\u001b[39mtime()\n\u001b[1;32m---> 19\u001b[0m layerOutputs \u001b[38;5;241m=\u001b[39m \u001b[43mnet\u001b[49m\u001b[38;5;241;43m.\u001b[39;49m\u001b[43mforward\u001b[49m\u001b[43m(\u001b[49m\u001b[43mln\u001b[49m\u001b[43m)\u001b[49m\n\u001b[0;32m     20\u001b[0m end \u001b[38;5;241m=\u001b[39m time\u001b[38;5;241m.\u001b[39mtime()\n\u001b[0;32m     21\u001b[0m \u001b[38;5;66;03m# initialize our lists of detected bounding boxes, confidences,\u001b[39;00m\n\u001b[0;32m     22\u001b[0m \u001b[38;5;66;03m# and class IDs, respectively\u001b[39;00m\n",
      "\u001b[1;31mKeyboardInterrupt\u001b[0m: "
     ]
    }
   ],
   "source": [
    "# loop over frames from the video file stream\n",
    "while True:\n",
    "\t# read the next frame from the file\n",
    "\t(grabbed, frame) = vs.read()\n",
    "\t# if the frame was not grabbed, then we have reached the end\n",
    "\t# of the stream\n",
    "\tif not grabbed:\n",
    "\t\tbreak\n",
    "\t# if the frame dimensions are empty, grab them\n",
    "\tif W is None or H is None:\n",
    "\t\t(H, W) = frame.shape[:2]\n",
    "    # construct a blob from the input frame and then perform a forward\n",
    "\t# pass of the YOLO object detector, giving us our bounding boxes\n",
    "\t# and associated probabilities\n",
    "\tblob = cv2.dnn.blobFromImage(frame, 1 / 255.0, (416, 416),\n",
    "\t\tswapRB=True, crop=False)\n",
    "\tnet.setInput(blob)\n",
    "\tstart = time.time()\n",
    "\tlayerOutputs = net.forward(ln)\n",
    "\tend = time.time()\n",
    "\t# initialize our lists of detected bounding boxes, confidences,\n",
    "\t# and class IDs, respectively\n",
    "\tboxes = []\n",
    "\tconfidences = []\n",
    "\tclassIDs = []\n",
    "\t# loop over each of the layer outputs\n",
    "\tfor output in layerOutputs:\n",
    "\t\t# loop over each of the detections\n",
    "\t\tfor detection in output:\n",
    "\t\t\t# extract the class ID and confidence (i.e., probability)\n",
    "\t\t\t# of the current object detection\n",
    "\t\t\tscores = detection[5:]\n",
    "\t\t\tclassID = np.argmax(scores)\n",
    "\t\t\tconfidence = scores[classID]\n",
    "\t\t\t# filter out weak predictions by ensuring the detected\n",
    "\t\t\t# probability is greater than the minimum probability\n",
    "\t\t\tif confidence > args[\"confidence\"]:\n",
    "\t\t\t\t# scale the bounding box coordinates back relative to\n",
    "\t\t\t\t# the size of the image, keeping in mind that YOLO\n",
    "\t\t\t\t# actually returns the center (x, y)-coordinates of\n",
    "\t\t\t\t# the bounding box followed by the boxes' width and\n",
    "\t\t\t\t# height\n",
    "\t\t\t\tbox = detection[0:4] * np.array([W, H, W, H])\n",
    "\t\t\t\t(centerX, centerY, width, height) = box.astype(\"int\")\n",
    "\t\t\t\t# use the center (x, y)-coordinates to derive the top\n",
    "\t\t\t\t# and and left corner of the bounding box\n",
    "\t\t\t\tx = int(centerX - (width / 2))\n",
    "\t\t\t\ty = int(centerY - (height / 2))\n",
    "\t\t\t\t# update our list of bounding box coordinates,\n",
    "\t\t\t\t# confidences, and class IDs\n",
    "\t\t\t\tboxes.append([x, y, int(width), int(height)])\n",
    "\t\t\t\tconfidences.append(float(confidence))\n",
    "\t\t\t\tclassIDs.append(classID)\n",
    "\t# apply non-maxima suppression to suppress weak, overlapping\n",
    "\t# bounding boxes\n",
    "\tidxs = cv2.dnn.NMSBoxes(boxes, confidences, args[\"confidence\"],\n",
    "\t\targs[\"threshold\"])\n",
    "\t# ensure at least one detection exists\n",
    "\tif len(idxs) > 0:\n",
    "\t\t# loop over the indexes we are keeping\n",
    "\t\tfor i in idxs.flatten():\n",
    "\t\t\t# extract the bounding box coordinates\n",
    "\t\t\t(x, y) = (boxes[i][0], boxes[i][1])\n",
    "\t\t\t(w, h) = (boxes[i][2], boxes[i][3])\n",
    "\t\t\t# draw a bounding box rectangle and label on the frame\n",
    "\t\t\tcolor = [int(c) for c in COLORS[classIDs[i]]]\n",
    "\t\t\tcv2.rectangle(frame, (x, y), (x + w, y + h), color, 2)\n",
    "\t\t\ttext = \"{}: {:.4f}\".format(LABELS[classIDs[i]],\n",
    "\t\t\t\tconfidences[i])\n",
    "\t\t\tcv2.putText(frame, text, (x, y - 5),\n",
    "\t\t\t\tcv2.FONT_HERSHEY_SIMPLEX, 0.5, color, 2)\n",
    "\t# check if the video writer is None\n",
    "\tif writer is None:\n",
    "\t\t# initialize our video writer\n",
    "\t\tfourcc = cv2.VideoWriter_fourcc(*\"MJPG\")\n",
    "\t\twriter = cv2.VideoWriter(args[\"output\"], fourcc, 30,\n",
    "\t\t\t(frame.shape[1], frame.shape[0]), True)\n",
    "\t\t# some information on processing single frame\n",
    "\t\tif total > 0:\n",
    "\t\t\telap = (end - start)\n",
    "\t\t\tprint(\"[INFO] single frame took {:.4f} seconds\".format(elap))\n",
    "\t\t\tprint(\"[INFO] estimated total time to finish: {:.4f}\".format(\n",
    "\t\t\t\telap * total))\n",
    "\t# write the output frame to disk\n",
    "\twriter.write(frame)\n",
    "# release the file pointers\n",
    "print(\"[INFO] cleaning up...\")\n",
    "writer.release()\n",
    "vs.release()"
   ]
  },
  {
   "cell_type": "markdown",
   "id": "5b8e818e",
   "metadata": {},
   "source": [
    "Drive link to output video : https://drive.google.com/drive/folders/1SvqAtm3Oa3wdSqvW_qaUoGUBU4ddlGxY?usp=sharing\n",
    "\n",
    "Drive link to yolo(for image) : https://drive.google.com/drive/folders/1Gyj5WUfCVu1SJoPOJU-aNIUVx65TmvYJ?usp=sharing"
   ]
  },
  {
   "cell_type": "markdown",
   "id": "6f64b0f0",
   "metadata": {},
   "source": [
    "Reference : \n",
    "https://pyimagesearch.com/2018/11/12/yolo-object-detection-with-opencv/"
   ]
  }
 ],
 "metadata": {
  "kernelspec": {
   "display_name": "Python 3",
   "language": "python",
   "name": "python3"
  },
  "language_info": {
   "codemirror_mode": {
    "name": "ipython",
    "version": 3
   },
   "file_extension": ".py",
   "mimetype": "text/x-python",
   "name": "python",
   "nbconvert_exporter": "python",
   "pygments_lexer": "ipython3",
   "version": "3.10.4"
  }
 },
 "nbformat": 4,
 "nbformat_minor": 5
}
