{
 "cells": [
  {
   "cell_type": "markdown",
   "metadata": {
    "id": "XptRdG5hUvxo"
   },
   "source": [
    "###                                 CSE1016 - Deep Learning\n",
    "###                                          Lab 5\n",
    "####     Implementing CNN from scratch and comparing it with MLP for MNIST dataset"
   ]
  },
  {
   "cell_type": "markdown",
   "metadata": {
    "id": "nM27eF6UWAUd"
   },
   "source": [
    "AJAY RAJKUMAR K\n",
    "\n",
    "20BAI1020"
   ]
  },
  {
   "cell_type": "markdown",
   "metadata": {
    "id": "bDxLOBcIWn0M"
   },
   "source": [
    "CNN"
   ]
  },
  {
   "cell_type": "code",
   "execution_count": null,
   "metadata": {
    "id": "NhhXuCZ6_cjF"
   },
   "outputs": [],
   "source": [
    "import numpy as np\n",
    "import pandas as pd\n",
    "import matplotlib as plt\n",
    "import seaborn as sns\n",
    "import matplotlib.pyplot as plt\n",
    "import tensorflow as tf"
   ]
  },
  {
   "cell_type": "code",
   "execution_count": null,
   "metadata": {
    "colab": {
     "base_uri": "https://localhost:8080/"
    },
    "id": "YkrBH6Lm_yGr",
    "outputId": "488276f1-4f05-4751-814b-39d505086f0d"
   },
   "outputs": [
    {
     "name": "stdout",
     "output_type": "stream",
     "text": [
      "Downloading data from https://storage.googleapis.com/tensorflow/tf-keras-datasets/mnist.npz\n",
      "11490434/11490434 [==============================] - 2s 0us/step\n"
     ]
    }
   ],
   "source": [
    "from keras.datasets import mnist\n",
    "(X_train, y_train), (X_test, y_test) = mnist.load_data()"
   ]
  },
  {
   "cell_type": "code",
   "execution_count": null,
   "metadata": {
    "id": "VL8FP3wz_5iO"
   },
   "outputs": [],
   "source": [
    "X_train = X_train.reshape(60000, 28, 28, 1)\n",
    "X_test = X_test.reshape(10000, 28, 28, 1)\n",
    "X_train, X_test = X_train/255.0, X_test/255.0\n",
    "X_train = X_train.astype('float32')\n",
    "X_test = X_test.astype('float32')"
   ]
  },
  {
   "cell_type": "code",
   "execution_count": null,
   "metadata": {
    "colab": {
     "base_uri": "https://localhost:8080/",
     "height": 282
    },
    "id": "bQiIoxcaASyB",
    "outputId": "85705470-8f24-470b-a943-7aa28b42ca44"
   },
   "outputs": [
    {
     "data": {
      "text/plain": [
       "<matplotlib.image.AxesImage at 0x7fcdf9aceed0>"
      ]
     },
     "execution_count": 4,
     "metadata": {},
     "output_type": "execute_result"
    },
    {
     "data": {
      "image/png": "[encoded data removed]",
      "text/plain": [
       "<Figure size 432x288 with 1 Axes>"
      ]
     },
     "metadata": {
      "needs_background": "light"
     },
     "output_type": "display_data"
    }
   ],
   "source": [
    "plt.imshow(X_train[1092].reshape(28,28))"
   ]
  },
  {
   "cell_type": "code",
   "execution_count": null,
   "metadata": {
    "id": "Vk5c10Wd_9RG"
   },
   "outputs": [],
   "source": [
    "from tensorflow.keras.models import Sequential\n",
    "from tensorflow.keras.layers import Dense, Conv2D, Flatten"
   ]
  },
  {
   "cell_type": "code",
   "execution_count": null,
   "metadata": {
    "id": "gUdEDL2i__qM"
   },
   "outputs": [],
   "source": [
    "model = Sequential()\n",
    "model.add(Conv2D(128, kernel_size=5, activation='relu', input_shape = (28,28,1)))\n",
    "model.add(Conv2D(64, kernel_size=5, activation='relu'))\n",
    "model.add(Flatten())\n",
    "model.add(Dense(24, activation='relu'))\n",
    "model.add(Dense(10, activation='softmax'))"
   ]
  },
  {
   "cell_type": "code",
   "execution_count": null,
   "metadata": {
    "id": "3ksNfZECADvd"
   },
   "outputs": [],
   "source": [
    "model.compile(\n",
    "    loss = \"sparse_categorical_crossentropy\",\n",
    "    optimizer = tf.keras.optimizers.Adam(),\n",
    "    metrics = ['accuracy']\n",
    ")"
   ]
  },
  {
   "cell_type": "code",
   "execution_count": null,
   "metadata": {
    "colab": {
     "base_uri": "https://localhost:8080/"
    },
    "id": "kqHF88atAG3O",
    "outputId": "2101aafc-e503-42f8-e247-87524e2184ac"
   },
   "outputs": [
    {
     "name": "stdout",
     "output_type": "stream",
     "text": [
      "Epoch 1/3\n",
      "1875/1875 [==============================] - 10s 5ms/step - loss: 0.1153 - accuracy: 0.9655 - val_loss: 0.0461 - val_accuracy: 0.9848\n",
      "Epoch 2/3\n",
      "1875/1875 [==============================] - 10s 5ms/step - loss: 0.0413 - accuracy: 0.9876 - val_loss: 0.0380 - val_accuracy: 0.9879\n",
      "Epoch 3/3\n",
      "1875/1875 [==============================] - 9s 5ms/step - loss: 0.0273 - accuracy: 0.9913 - val_loss: 0.0328 - val_accuracy: 0.9898\n"
     ]
    }
   ],
   "source": [
    "# model training\n",
    "history = model.fit(\n",
    "    X_train, y_train, epochs=3,\n",
    "    validation_data = (X_test, y_test),\n",
    "    verbose=1\n",
    ")"
   ]
  },
  {
   "cell_type": "code",
   "execution_count": null,
   "metadata": {
    "colab": {
     "base_uri": "https://localhost:8080/",
     "height": 302
    },
    "id": "KJ0kz4viGwVe",
    "outputId": "4b668fbb-ebfb-4441-985c-dac4c0abb90b"
   },
   "outputs": [
    {
     "data": {
      "text/plain": [
       "<matplotlib.legend.Legend at 0x7fccca5e5b90>"
      ]
     },
     "execution_count": 44,
     "metadata": {},
     "output_type": "execute_result"
    },
    {
     "data": {
      "image/png": "[encoded data removed]",
      "text/plain": [
       "<Figure size 432x288 with 1 Axes>"
      ]
     },
     "metadata": {},
     "output_type": "display_data"
    }
   ],
   "source": [
    "pd.DataFrame(history.history).plot()\n",
    "plt.xlabel('Epoch')\n",
    "plt.ylabel('val_sparse_categorical_accuracy')\n",
    "plt.legend()\n"
   ]
  },
  {
   "cell_type": "markdown",
   "metadata": {
    "id": "utxXpdwdWvQp"
   },
   "source": [
    "CNN with smaller kernel"
   ]
  },
  {
   "cell_type": "code",
   "execution_count": null,
   "metadata": {
    "id": "N9ELf_QiKVXy"
   },
   "outputs": [],
   "source": [
    "model = Sequential()\n",
    "model.add(Conv2D(128, kernel_size=3, activation='relu', input_shape = (28,28,1)))\n",
    "model.add(Conv2D(64, kernel_size=3, activation='relu'))\n",
    "model.add(Flatten())\n",
    "model.add(Dense(24, activation='relu'))\n",
    "model.add(Dense(10, activation='softmax'))"
   ]
  },
  {
   "cell_type": "code",
   "execution_count": null,
   "metadata": {
    "id": "AIuGkPJ5KaU-"
   },
   "outputs": [],
   "source": [
    "model.compile(\n",
    "    loss = \"sparse_categorical_crossentropy\",\n",
    "    optimizer = tf.keras.optimizers.Adam(),\n",
    "    metrics = ['accuracy']\n",
    ")"
   ]
  },
  {
   "cell_type": "code",
   "execution_count": null,
   "metadata": {
    "colab": {
     "base_uri": "https://localhost:8080/"
    },
    "id": "U1gRaHw2Kfg8",
    "outputId": "1dc00b67-c5e6-4567-fcc4-b51da662b00c"
   },
   "outputs": [
    {
     "name": "stdout",
     "output_type": "stream",
     "text": [
      "Epoch 1/3\n",
      "1875/1875 [==============================] - 10s 5ms/step - loss: 0.1357 - accuracy: 0.9591 - val_loss: 0.0584 - val_accuracy: 0.9821\n",
      "Epoch 2/3\n",
      "1875/1875 [==============================] - 9s 5ms/step - loss: 0.0467 - accuracy: 0.9853 - val_loss: 0.0567 - val_accuracy: 0.9829\n",
      "Epoch 3/3\n",
      "1875/1875 [==============================] - 10s 5ms/step - loss: 0.0312 - accuracy: 0.9901 - val_loss: 0.0427 - val_accuracy: 0.9861\n"
     ]
    }
   ],
   "source": [
    "# model training\n",
    "history = model.fit(\n",
    "    X_train, y_train, epochs=3,\n",
    "    validation_data = (X_test, y_test),\n",
    "    verbose=1\n",
    ")"
   ]
  },
  {
   "cell_type": "code",
   "execution_count": null,
   "metadata": {
    "colab": {
     "base_uri": "https://localhost:8080/",
     "height": 302
    },
    "id": "qxbY2TRlXM9d",
    "outputId": "a6ce7324-90eb-46c8-e8db-e9a503085ae2"
   },
   "outputs": [
    {
     "data": {
      "text/plain": [
       "<matplotlib.legend.Legend at 0x7fcd684e3350>"
      ]
     },
     "execution_count": 50,
     "metadata": {},
     "output_type": "execute_result"
    },
    {
     "data": {
      "image/png": "[encoded data removed]",
      "text/plain": [
       "<Figure size 432x288 with 1 Axes>"
      ]
     },
     "metadata": {},
     "output_type": "display_data"
    }
   ],
   "source": [
    "pd.DataFrame(history.history).plot()\n",
    "plt.xlabel('Epoch')\n",
    "plt.ylabel('val_sparse_categorical_accuracy')\n",
    "plt.legend()\n"
   ]
  },
  {
   "cell_type": "markdown",
   "metadata": {
    "id": "uOkKoO60Ev1Y"
   },
   "source": [
    "# **Comparing CNN with MLP**"
   ]
  },
  {
   "cell_type": "code",
   "execution_count": null,
   "metadata": {
    "id": "6N8dRzMVE7oB"
   },
   "outputs": [],
   "source": [
    "\n",
    "import numpy as np\n",
    "import pandas as pd\n",
    "import matplotlib.pyplot as plt\n",
    "import seaborn as sns\n",
    "import tensorflow as tf\n",
    "from IPython.display import Image, clear_output\n",
    "sns.set()\n",
    "\n",
    "data = tf.keras.datasets.mnist"
   ]
  },
  {
   "cell_type": "code",
   "execution_count": null,
   "metadata": {
    "colab": {
     "base_uri": "https://localhost:8080/"
    },
    "id": "-dyY9GGuFYbb",
    "outputId": "63992945-8d6a-44e5-c6fc-a0d9db15eaad"
   },
   "outputs": [
    {
     "name": "stdout",
     "output_type": "stream",
     "text": [
      "X_train_full shape : (60000, 28, 28)\n",
      "X_test shape : (10000, 28, 28)\n"
     ]
    }
   ],
   "source": [
    "(X_train_full, y_train_full), (X_test, y_test) = data.load_data()\n",
    "\n",
    "clear_output()\n",
    "print(\"X_train_full shape :\",X_train_full.shape)\n",
    "print(\"X_test shape :\", X_test.shape)\n"
   ]
  },
  {
   "cell_type": "code",
   "execution_count": null,
   "metadata": {
    "id": "cqWfPJm3FZc4"
   },
   "outputs": [],
   "source": [
    "X_v, X_train = X_train_full[:5000], X_train_full[5000:]\n",
    "y_v, y_train = y_train_full[:5000], y_train_full[5000:]\n",
    "X_v, X_train = X_v/255., X_train/255."
   ]
  },
  {
   "cell_type": "code",
   "execution_count": null,
   "metadata": {
    "id": "UUHlUjXTFZtC"
   },
   "outputs": [],
   "source": [
    "#two deep layers\n",
    "model = tf.keras.models.Sequential([\n",
    "    tf.keras.layers.Flatten(input_shape = [28,28]),\n",
    "    tf.keras.layers.Dense(128, activation='relu'),\n",
    "    tf.keras.layers.Dense(48, activation='relu'),\n",
    "    tf.keras.layers.Dense(24, activation='relu'),\n",
    "    tf.keras.layers.Dense(10, activation='softmax'),\n",
    "])"
   ]
  },
  {
   "cell_type": "code",
   "execution_count": null,
   "metadata": {
    "id": "NBcJvfkBFswx"
   },
   "outputs": [],
   "source": [
    "model.compile(\n",
    "    loss = tf.keras.losses.SparseCategoricalCrossentropy(),\n",
    "    optimizer = tf.keras.optimizers.Adam(),\n",
    "    metrics = ['accuracy']\n",
    ")"
   ]
  },
  {
   "cell_type": "code",
   "execution_count": null,
   "metadata": {
    "colab": {
     "base_uri": "https://localhost:8080/"
    },
    "id": "3KVrBAzPhaZ_",
    "outputId": "ec9d26c1-583f-4844-a128-94acbe68261c"
   },
   "outputs": [
    {
     "name": "stdout",
     "output_type": "stream",
     "text": [
      "Epoch 1/3\n",
      "1719/1719 [==============================] - 5s 3ms/step - loss: 0.2677 - accuracy: 0.9205 - val_loss: 0.1255 - val_accuracy: 0.9634\n",
      "Epoch 2/3\n",
      "1719/1719 [==============================] - 5s 3ms/step - loss: 0.1148 - accuracy: 0.9654 - val_loss: 0.0970 - val_accuracy: 0.9706\n",
      "Epoch 3/3\n",
      "1719/1719 [==============================] - 5s 3ms/step - loss: 0.0816 - accuracy: 0.9748 - val_loss: 0.1076 - val_accuracy: 0.9668\n"
     ]
    }
   ],
   "source": [
    "# model training with 3 epochs (to closely simulate CNN which had 3 epochs as well)\n",
    "history = model.fit(\n",
    "    X_train, y_train, epochs=3,\n",
    "    validation_data = (X_v, y_v),\n",
    "    verbose=1\n",
    ")"
   ]
  },
  {
   "cell_type": "code",
   "execution_count": null,
   "metadata": {
    "id": "SrWzhLDAhov4"
   },
   "outputs": [],
   "source": []
  },
  {
   "cell_type": "code",
   "execution_count": null,
   "metadata": {
    "colab": {
     "base_uri": "https://localhost:8080/"
    },
    "id": "EI5pkw1uFucd",
    "outputId": "b20509b0-a116-4549-c001-945d50fa6536"
   },
   "outputs": [
    {
     "name": "stdout",
     "output_type": "stream",
     "text": [
      "Epoch 1/10\n",
      "1719/1719 [==============================] - 5s 3ms/step - loss: 0.2831 - accuracy: 0.9167 - val_loss: 0.1265 - val_accuracy: 0.9630\n",
      "Epoch 2/10\n",
      "1719/1719 [==============================] - 5s 3ms/step - loss: 0.1142 - accuracy: 0.9653 - val_loss: 0.1059 - val_accuracy: 0.9686\n",
      "Epoch 3/10\n",
      "1719/1719 [==============================] - 5s 3ms/step - loss: 0.0810 - accuracy: 0.9745 - val_loss: 0.0857 - val_accuracy: 0.9756\n",
      "Epoch 4/10\n",
      "1719/1719 [==============================] - 5s 3ms/step - loss: 0.0613 - accuracy: 0.9809 - val_loss: 0.0948 - val_accuracy: 0.9714\n",
      "Epoch 5/10\n",
      "1719/1719 [==============================] - 5s 3ms/step - loss: 0.0498 - accuracy: 0.9837 - val_loss: 0.0867 - val_accuracy: 0.9744\n",
      "Epoch 6/10\n",
      "1719/1719 [==============================] - 5s 3ms/step - loss: 0.0394 - accuracy: 0.9869 - val_loss: 0.0934 - val_accuracy: 0.9772\n",
      "Epoch 7/10\n",
      "1719/1719 [==============================] - 5s 3ms/step - loss: 0.0352 - accuracy: 0.9879 - val_loss: 0.0792 - val_accuracy: 0.9788\n",
      "Epoch 8/10\n",
      "1719/1719 [==============================] - 5s 3ms/step - loss: 0.0289 - accuracy: 0.9907 - val_loss: 0.0807 - val_accuracy: 0.9794\n",
      "Epoch 9/10\n",
      "1719/1719 [==============================] - 5s 3ms/step - loss: 0.0263 - accuracy: 0.9914 - val_loss: 0.0925 - val_accuracy: 0.9780\n",
      "Epoch 10/10\n",
      "1719/1719 [==============================] - 6s 3ms/step - loss: 0.0232 - accuracy: 0.9927 - val_loss: 0.0911 - val_accuracy: 0.9786\n"
     ]
    }
   ],
   "source": [
    "# model training\n",
    "history = model.fit(\n",
    "    X_train, y_train, epochs=10,\n",
    "    validation_data = (X_v, y_v),\n",
    "    verbose=1\n",
    ")"
   ]
  },
  {
   "cell_type": "code",
   "execution_count": null,
   "metadata": {
    "colab": {
     "base_uri": "https://localhost:8080/",
     "height": 302
    },
    "id": "-yROB3Q8F3W6",
    "outputId": "22727348-1d9c-4511-961b-817b8dc44aa2"
   },
   "outputs": [
    {
     "data": {
      "text/plain": [
       "<matplotlib.legend.Legend at 0x7fcd684a45d0>"
      ]
     },
     "execution_count": 57,
     "metadata": {},
     "output_type": "execute_result"
    },
    {
     "data": {
      "image/png": "[encoded data removed]",
      "text/plain": [
       "<Figure size 432x288 with 1 Axes>"
      ]
     },
     "metadata": {},
     "output_type": "display_data"
    }
   ],
   "source": [
    "pd.DataFrame(history.history).plot()\n",
    "plt.xlabel('Epoch')\n",
    "plt.ylabel('val_sparse_categorical_accuracy')\n",
    "plt.legend()\n"
   ]
  },
  {
   "cell_type": "markdown",
   "metadata": {
    "id": "dexVu_KaIau2"
   },
   "source": [
    "\n",
    "**Conclusions:**\n",
    "\n",
    "1. CNN with 2 convolutional layers, a flattening layer and a dense layer(last dense layer being the final layer) provided an accuracy of about 99.13%\n",
    "\n",
    "1. Comparing to a CNN model, MLP model with 3 dense layers and a flattening layer provided an accuracy of about 97.48% (3 epochs), 99.27% (10 epochs, but overfitted)\n",
    "\n",
    "3. As the kernel size was decreased, there was a noticable increase in execution time(due to increase in area to be covered) and the testing accuracy also decreased due to overfitting, as more unique features are analysed.\n",
    "\n",
    "4. While the CNN required only 3 epochs(stopped with 3, as higher epochs had increasing valuation loss, a usual feature of overfitting), MLP model required about 10 epochs to achieve similar accuracy, this tells about the usage of computational power and how CNN would be more efficient than MLP.\n"
   ]
  }
 ],
 "metadata": {
  "accelerator": "GPU",
  "colab": {
   "collapsed_sections": [],
   "provenance": []
  },
  "kernelspec": {
   "display_name": "Python 3",
   "language": "python",
   "name": "python3"
  },
  "language_info": {
   "codemirror_mode": {
    "name": "ipython",
    "version": 3
   },
   "file_extension": ".py",
   "mimetype": "text/x-python",
   "name": "python",
   "nbconvert_exporter": "python",
   "pygments_lexer": "ipython3",
   "version": "3.10.4"
  }
 },
 "nbformat": 4,
 "nbformat_minor": 1
}
