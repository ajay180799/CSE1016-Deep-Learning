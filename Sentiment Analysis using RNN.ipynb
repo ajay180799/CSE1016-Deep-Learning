{
 "cells": [
  {
   "cell_type": "markdown",
   "metadata": {},
   "source": [
    "## Sentiment Analysis using RNN"
   ]
  },
  {
   "cell_type": "markdown",
   "metadata": {},
   "source": [
    "####                                                                                                                                                                                        Ajay Rajkumar K\n",
    "####                                                                                                                                                                                            20BAI1020"
   ]
  },
  {
   "cell_type": "code",
   "execution_count": 48,
   "metadata": {
    "_cell_guid": "b1076dfc-b9ad-4769-8c92-a6c4dae69d19",
    "_uuid": "8f2839f25d086af736a60e9eeb907d3b93b6e0e5",
    "execution": {
     "iopub.execute_input": "2022-10-19T06:50:42.528068Z",
     "iopub.status.busy": "2022-10-19T06:50:42.527644Z",
     "iopub.status.idle": "2022-10-19T06:50:42.536420Z",
     "shell.execute_reply": "2022-10-19T06:50:42.534823Z",
     "shell.execute_reply.started": "2022-10-19T06:50:42.527999Z"
    }
   },
   "outputs": [],
   "source": [
    "import numpy as np \n",
    "import pandas as pd \n",
    "import seaborn as sns\n",
    "import tensorflow as tf\n",
    "import matplotlib.pyplot as plt\n",
    "from keras.preprocessing.text import Tokenizer\n",
    "from keras.preprocessing.sequence import pad_sequences\n",
    "from sklearn.model_selection import train_test_split\n",
    "from sklearn.metrics import confusion_matrix\n",
    "from keras.models import Sequential\n",
    "from keras.layers import SimpleRNN\n",
    "from keras.layers import Dense\n",
    "from keras.layers import Embedding\n",
    "from keras.layers import Dropout\n",
    "warnings.filterwarnings(\"ignore\", category=FutureWarning)"
   ]
  },
  {
   "cell_type": "code",
   "execution_count": 49,
   "metadata": {
    "_cell_guid": "79c7e3d0-c299-4dcb-8224-4455121ee9b0",
    "_uuid": "d629ff2d2480ee46fbb7e2d37f6b5fab8052498a",
    "execution": {
     "iopub.execute_input": "2022-10-19T06:39:30.774392Z",
     "iopub.status.busy": "2022-10-19T06:39:30.774021Z",
     "iopub.status.idle": "2022-10-19T06:39:31.015237Z",
     "shell.execute_reply": "2022-10-19T06:39:31.013815Z",
     "shell.execute_reply.started": "2022-10-19T06:39:30.774337Z"
    }
   },
   "outputs": [],
   "source": [
    "df = pd.read_csv(r\"C:\\Users\\Ajay\\Documents\\Tweets.csv\")\n",
    "df = df[[\"text\",\"airline_sentiment\"]]\n",
    "df['text'] = df['text'].map(lambda x: x.lstrip('@VirginAmerica@UnitedAir@Southwestairline@DeltaAir@USAirways@American').rstrip('@'))"
   ]
  },
  {
   "cell_type": "code",
   "execution_count": 50,
   "metadata": {
    "execution": {
     "iopub.execute_input": "2022-10-19T06:39:32.929992Z",
     "iopub.status.busy": "2022-10-19T06:39:32.929434Z",
     "iopub.status.idle": "2022-10-19T06:39:33.119943Z",
     "shell.execute_reply": "2022-10-19T06:39:33.118661Z",
     "shell.execute_reply.started": "2022-10-19T06:39:32.929941Z"
    }
   },
   "outputs": [],
   "source": [
    "df = df[df.airline_sentiment!=\"neutral\"] # To remove neutral responses\n",
    "df['text'] = df['text'].apply(lambda x: x.lower()) # To lower \n",
    "df['text'] = df['text'].apply((lambda x: re.sub('[^a-zA-z0-9\\s]','',x))) # To keep numbers and strings only"
   ]
  },
  {
   "cell_type": "code",
   "execution_count": 51,
   "metadata": {
    "execution": {
     "iopub.execute_input": "2022-10-19T06:39:33.690444Z",
     "iopub.status.busy": "2022-10-19T06:39:33.689992Z",
     "iopub.status.idle": "2022-10-19T06:39:33.702465Z",
     "shell.execute_reply": "2022-10-19T06:39:33.701293Z",
     "shell.execute_reply.started": "2022-10-19T06:39:33.690371Z"
    }
   },
   "outputs": [
    {
     "data": {
      "text/html": [
       "<div>\n",
       "<style scoped>\n",
       "    .dataframe tbody tr th:only-of-type {\n",
       "        vertical-align: middle;\n",
       "    }\n",
       "\n",
       "    .dataframe tbody tr th {\n",
       "        vertical-align: top;\n",
       "    }\n",
       "\n",
       "    .dataframe thead th {\n",
       "        text-align: right;\n",
       "    }\n",
       "</style>\n",
       "<table border=\"1\" class=\"dataframe\">\n",
       "  <thead>\n",
       "    <tr style=\"text-align: right;\">\n",
       "      <th></th>\n",
       "      <th>text</th>\n",
       "      <th>airline_sentiment</th>\n",
       "    </tr>\n",
       "  </thead>\n",
       "  <tbody>\n",
       "    <tr>\n",
       "      <th>1</th>\n",
       "      <td>plus youve added commercials to the experienc...</td>\n",
       "      <td>positive</td>\n",
       "    </tr>\n",
       "    <tr>\n",
       "      <th>3</th>\n",
       "      <td>its really aggressive to blast obnoxious ente...</td>\n",
       "      <td>negative</td>\n",
       "    </tr>\n",
       "    <tr>\n",
       "      <th>4</th>\n",
       "      <td>and its a really big bad thing about it</td>\n",
       "      <td>negative</td>\n",
       "    </tr>\n",
       "    <tr>\n",
       "      <th>5</th>\n",
       "      <td>seriously would pay 30 a flight for seats tha...</td>\n",
       "      <td>negative</td>\n",
       "    </tr>\n",
       "    <tr>\n",
       "      <th>6</th>\n",
       "      <td>yes nearly every time i fly vx this ear worm ...</td>\n",
       "      <td>positive</td>\n",
       "    </tr>\n",
       "  </tbody>\n",
       "</table>\n",
       "</div>"
      ],
      "text/plain": [
       "                                                text airline_sentiment\n",
       "1   plus youve added commercials to the experienc...          positive\n",
       "3   its really aggressive to blast obnoxious ente...          negative\n",
       "4            and its a really big bad thing about it          negative\n",
       "5   seriously would pay 30 a flight for seats tha...          negative\n",
       "6   yes nearly every time i fly vx this ear worm ...          positive"
      ]
     },
     "execution_count": 51,
     "metadata": {},
     "output_type": "execute_result"
    }
   ],
   "source": [
    "df.head(5) #Quick Look "
   ]
  },
  {
   "cell_type": "code",
   "execution_count": 52,
   "metadata": {
    "execution": {
     "iopub.execute_input": "2022-10-19T06:39:34.364119Z",
     "iopub.status.busy": "2022-10-19T06:39:34.363627Z",
     "iopub.status.idle": "2022-10-19T06:39:34.625863Z",
     "shell.execute_reply": "2022-10-19T06:39:34.624294Z",
     "shell.execute_reply.started": "2022-10-19T06:39:34.364043Z"
    }
   },
   "outputs": [
    {
     "data": {
      "image/png": "[encoded data removed]",
      "text/plain": [
       "<Figure size 432x288 with 1 Axes>"
      ]
     },
     "metadata": {
      "needs_background": "light"
     },
     "output_type": "display_data"
    }
   ],
   "source": [
    "sns.countplot(df.airline_sentiment);"
   ]
  },
  {
   "cell_type": "code",
   "execution_count": 53,
   "metadata": {
    "execution": {
     "iopub.execute_input": "2022-10-19T06:39:35.074803Z",
     "iopub.status.busy": "2022-10-19T06:39:35.074183Z",
     "iopub.status.idle": "2022-10-19T06:39:35.086895Z",
     "shell.execute_reply": "2022-10-19T06:39:35.085358Z",
     "shell.execute_reply.started": "2022-10-19T06:39:35.074729Z"
    }
   },
   "outputs": [],
   "source": [
    "df = df.drop(df[df.airline_sentiment == \"negative\"].iloc[:5000].index) #to have similar no of positive and negative reviews"
   ]
  },
  {
   "cell_type": "code",
   "execution_count": 54,
   "metadata": {
    "execution": {
     "iopub.execute_input": "2022-10-19T06:39:36.117604Z",
     "iopub.status.busy": "2022-10-19T06:39:36.117207Z",
     "iopub.status.idle": "2022-10-19T06:39:36.410589Z",
     "shell.execute_reply": "2022-10-19T06:39:36.408745Z",
     "shell.execute_reply.started": "2022-10-19T06:39:36.117541Z"
    }
   },
   "outputs": [
    {
     "data": {
      "image/png": "[encoded data removed]",
      "text/plain": [
       "<Figure size 432x288 with 1 Axes>"
      ]
     },
     "metadata": {
      "needs_background": "light"
     },
     "output_type": "display_data"
    }
   ],
   "source": [
    "sns.countplot(df.airline_sentiment);"
   ]
  },
  {
   "cell_type": "code",
   "execution_count": 87,
   "metadata": {
    "execution": {
     "iopub.execute_input": "2022-10-19T06:39:37.171573Z",
     "iopub.status.busy": "2022-10-19T06:39:37.170957Z",
     "iopub.status.idle": "2022-10-19T06:39:37.593004Z",
     "shell.execute_reply": "2022-10-19T06:39:37.591864Z",
     "shell.execute_reply.started": "2022-10-19T06:39:37.171494Z"
    }
   },
   "outputs": [],
   "source": [
    "max_fatures = 4000\n",
    "tokenizer = Tokenizer(num_words = max_fatures, split=' ')\n",
    "tokenizer.fit_on_texts(df['text'].values)\n",
    "X = tokenizer.texts_to_sequences(df['text'].values)\n",
    "X = pad_sequences(X)\n",
    "Y = df['airline_sentiment']\n",
    "L = Y.values"
   ]
  },
  {
   "cell_type": "code",
   "execution_count": 88,
   "metadata": {
    "execution": {
     "iopub.execute_input": "2022-10-19T06:39:37.839765Z",
     "iopub.status.busy": "2022-10-19T06:39:37.839376Z",
     "iopub.status.idle": "2022-10-19T06:39:37.847571Z",
     "shell.execute_reply": "2022-10-19T06:39:37.846391Z",
     "shell.execute_reply.started": "2022-10-19T06:39:37.839701Z"
    }
   },
   "outputs": [],
   "source": [
    "k = []\n",
    "for i in range(6541):\n",
    "    if L[i]==\"negative\":\n",
    "        k.append(0)\n",
    "    elif L[i]==\"positive\":\n",
    "        k.append(1)\n",
    "k = np.array(k)   #converted into a numpy array, as the model fitting can be done using numpy arrays or vectors"
   ]
  },
  {
   "cell_type": "code",
   "execution_count": 89,
   "metadata": {
    "execution": {
     "iopub.execute_input": "2022-10-19T06:52:23.547979Z",
     "iopub.status.busy": "2022-10-19T06:52:23.547570Z",
     "iopub.status.idle": "2022-10-19T06:52:23.564474Z",
     "shell.execute_reply": "2022-10-19T06:52:23.562922Z",
     "shell.execute_reply.started": "2022-10-19T06:52:23.547916Z"
    }
   },
   "outputs": [],
   "source": [
    "X_train, X_test, Y_train, Y_test = train_test_split(X, k, test_size=0.3, shuffle = True, stratify = k, random_state = 1)\n",
    "X_val = X_train[-3000:, :]\n",
    "y_val = Y_train[-3000:]"
   ]
  },
  {
   "cell_type": "markdown",
   "metadata": {},
   "source": [
    "## Model 1"
   ]
  },
  {
   "cell_type": "code",
   "execution_count": 64,
   "metadata": {
    "execution": {
     "iopub.execute_input": "2022-10-19T06:52:24.536198Z",
     "iopub.status.busy": "2022-10-19T06:52:24.535810Z",
     "iopub.status.idle": "2022-10-19T06:52:24.866071Z",
     "shell.execute_reply": "2022-10-19T06:52:24.864831Z",
     "shell.execute_reply.started": "2022-10-19T06:52:24.536138Z"
    }
   },
   "outputs": [],
   "source": [
    "model = Sequential()\n",
    "model.add(Embedding(max_fatures, 128, input_length=X_train.shape[1]))\n",
    "model.add(SimpleRNN(196, dropout = 0.3, recurrent_dropout = 0.3 ))\n",
    "model.add(Dropout(0.2))\n",
    "model.add(Dense(100, activation = 'relu'))\n",
    "model.add(Dropout(0.4))\n",
    "model.add(Dense(2, activation = 'softmax'))"
   ]
  },
  {
   "cell_type": "code",
   "execution_count": 65,
   "metadata": {
    "execution": {
     "iopub.execute_input": "2022-10-19T06:52:27.229433Z",
     "iopub.status.busy": "2022-10-19T06:52:27.229025Z",
     "iopub.status.idle": "2022-10-19T06:52:27.283490Z",
     "shell.execute_reply": "2022-10-19T06:52:27.282420Z",
     "shell.execute_reply.started": "2022-10-19T06:52:27.229373Z"
    }
   },
   "outputs": [],
   "source": [
    "model.compile(optimizer=\"adam\", loss=\"sparse_categorical_crossentropy\", metrics=[\"accuracy\"])"
   ]
  },
  {
   "cell_type": "code",
   "execution_count": 67,
   "metadata": {
    "execution": {
     "iopub.execute_input": "2022-10-19T06:52:29.330903Z",
     "iopub.status.busy": "2022-10-19T06:52:29.330524Z",
     "iopub.status.idle": "2022-10-19T06:53:33.092423Z",
     "shell.execute_reply": "2022-10-19T06:53:33.091368Z",
     "shell.execute_reply.started": "2022-10-19T06:52:29.330839Z"
    }
   },
   "outputs": [
    {
     "name": "stdout",
     "output_type": "stream",
     "text": [
      "Epoch 1/20\n",
      "115/115 [==============================] - 6s 55ms/step - loss: 0.3480 - accuracy: 0.8534 - val_loss: 0.4363 - val_accuracy: 0.8210\n",
      "Epoch 2/20\n",
      "115/115 [==============================] - 6s 55ms/step - loss: 0.2317 - accuracy: 0.9115 - val_loss: 0.3100 - val_accuracy: 0.9061\n",
      "Epoch 3/20\n",
      "115/115 [==============================] - 6s 52ms/step - loss: 0.1728 - accuracy: 0.9350 - val_loss: 0.9948 - val_accuracy: 0.7937\n",
      "Epoch 4/20\n",
      "115/115 [==============================] - 6s 55ms/step - loss: 0.1505 - accuracy: 0.9454 - val_loss: 1.5951 - val_accuracy: 0.6779\n",
      "Epoch 5/20\n",
      "115/115 [==============================] - 6s 55ms/step - loss: 0.1055 - accuracy: 0.9623 - val_loss: 1.1994 - val_accuracy: 0.7664\n",
      "Epoch 6/20\n",
      "115/115 [==============================] - 6s 56ms/step - loss: 0.0936 - accuracy: 0.9661 - val_loss: 0.3706 - val_accuracy: 0.9225\n",
      "Epoch 7/20\n",
      "115/115 [==============================] - 6s 56ms/step - loss: 0.0767 - accuracy: 0.9735 - val_loss: 1.1478 - val_accuracy: 0.7631\n",
      "Epoch 8/20\n",
      "115/115 [==============================] - 6s 55ms/step - loss: 0.0782 - accuracy: 0.9708 - val_loss: 0.4448 - val_accuracy: 0.9061\n",
      "Epoch 9/20\n",
      "115/115 [==============================] - 6s 55ms/step - loss: 0.0526 - accuracy: 0.9812 - val_loss: 0.5159 - val_accuracy: 0.9050\n",
      "Epoch 10/20\n",
      "115/115 [==============================] - 6s 55ms/step - loss: 0.0556 - accuracy: 0.9806 - val_loss: 0.5845 - val_accuracy: 0.9094\n",
      "Epoch 11/20\n",
      "115/115 [==============================] - 6s 55ms/step - loss: 0.0482 - accuracy: 0.9844 - val_loss: 0.5403 - val_accuracy: 0.8963\n",
      "Epoch 12/20\n",
      "115/115 [==============================] - 6s 55ms/step - loss: 0.0405 - accuracy: 0.9858 - val_loss: 0.7276 - val_accuracy: 0.8930\n",
      "Epoch 13/20\n",
      "115/115 [==============================] - 6s 54ms/step - loss: 0.0468 - accuracy: 0.9844 - val_loss: 0.6058 - val_accuracy: 0.9007\n",
      "Epoch 14/20\n",
      "115/115 [==============================] - 6s 49ms/step - loss: 0.0342 - accuracy: 0.9869 - val_loss: 0.6139 - val_accuracy: 0.8996\n",
      "Epoch 15/20\n",
      "115/115 [==============================] - 6s 54ms/step - loss: 0.0450 - accuracy: 0.9833 - val_loss: 0.9194 - val_accuracy: 0.8777\n",
      "Epoch 16/20\n",
      "115/115 [==============================] - 6s 54ms/step - loss: 0.0266 - accuracy: 0.9910 - val_loss: 0.6213 - val_accuracy: 0.9039\n",
      "Epoch 17/20\n",
      "115/115 [==============================] - 6s 55ms/step - loss: 0.0323 - accuracy: 0.9888 - val_loss: 0.5765 - val_accuracy: 0.9017\n",
      "Epoch 18/20\n",
      "115/115 [==============================] - 6s 54ms/step - loss: 0.0373 - accuracy: 0.9853 - val_loss: 0.5655 - val_accuracy: 0.9105\n",
      "Epoch 19/20\n",
      "115/115 [==============================] - 6s 54ms/step - loss: 0.0292 - accuracy: 0.9899 - val_loss: 0.6663 - val_accuracy: 0.9105\n",
      "Epoch 20/20\n",
      "115/115 [==============================] - 6s 54ms/step - loss: 0.0268 - accuracy: 0.9910 - val_loss: 0.6088 - val_accuracy: 0.8919\n"
     ]
    }
   ],
   "source": [
    "Model = model.fit(X_train,\n",
    "                  Y_train,\n",
    "                  epochs=20,\n",
    "                  batch_size=32,\n",
    "                  validation_split = 0.2,\n",
    "                  verbose = 1\n",
    "                 )"
   ]
  },
  {
   "cell_type": "code",
   "execution_count": 68,
   "metadata": {
    "execution": {
     "iopub.execute_input": "2022-10-19T06:53:38.279033Z",
     "iopub.status.busy": "2022-10-19T06:53:38.278696Z",
     "iopub.status.idle": "2022-10-19T06:53:38.668744Z",
     "shell.execute_reply": "2022-10-19T06:53:38.667454Z",
     "shell.execute_reply.started": "2022-10-19T06:53:38.278991Z"
    }
   },
   "outputs": [
    {
     "name": "stdout",
     "output_type": "stream",
     "text": [
      "loss =  0.7359414100646973\n",
      "accuracy =  0.879775881767273\n"
     ]
    }
   ],
   "source": [
    "score = model.evaluate(X_test, Y_test, verbose=False)\n",
    "print(\"loss = \",score[0])\n",
    "print(\"accuracy = \",score[1])"
   ]
  },
  {
   "cell_type": "code",
   "execution_count": 69,
   "metadata": {
    "execution": {
     "iopub.execute_input": "2022-10-19T06:53:48.385454Z",
     "iopub.status.busy": "2022-10-19T06:53:48.385031Z",
     "iopub.status.idle": "2022-10-19T06:53:49.201421Z",
     "shell.execute_reply": "2022-10-19T06:53:49.200026Z",
     "shell.execute_reply.started": "2022-10-19T06:53:48.385392Z"
    }
   },
   "outputs": [
    {
     "data": {
      "image/png": "[encoded data removed]",
      "text/plain": [
       "<Figure size 432x288 with 2 Axes>"
      ]
     },
     "metadata": {
      "needs_background": "light"
     },
     "output_type": "display_data"
    }
   ],
   "source": [
    "def plot_confusion_matrix(cm, classes,\n",
    "                          normalize=False,\n",
    "                          title='Confusion matrix',\n",
    "                          cmap=plt.cm.Blues):\n",
    "    plt.imshow(cm, interpolation='nearest', cmap=cmap)\n",
    "    plt.title(title)\n",
    "    plt.colorbar()\n",
    "    tick_marks = np.arange(len(classes))\n",
    "    plt.xticks(tick_marks, classes, rotation=45)\n",
    "    plt.yticks(tick_marks, classes)\n",
    "    if normalize:\n",
    "        cm = cm.astype('float') / cm.sum(axis=1)[:, np.newaxis]\n",
    "\n",
    "    thresh = cm.max() / 2.\n",
    "    for i, j in itertools.product(range(cm.shape[0]), range(cm.shape[1])):\n",
    "        plt.text(j, i, cm[i, j],\n",
    "                 horizontalalignment=\"center\",\n",
    "                 color=\"white\" if cm[i, j] > thresh else \"black\")\n",
    "\n",
    "    plt.tight_layout()\n",
    "    plt.ylabel('True label')\n",
    "    plt.xlabel('Predicted label')\n",
    "\n",
    "y_pred = model.predict(X_test)\n",
    "y_pred_classes = np.argmax(y_pred,axis = 1) \n",
    "confusion_mtx = confusion_matrix(Y_test, y_pred_classes) \n",
    "plot_confusion_matrix(confusion_mtx, classes = range(2)) "
   ]
  },
  {
   "cell_type": "code",
   "execution_count": 78,
   "metadata": {
    "execution": {
     "iopub.execute_input": "2022-10-19T07:26:28.956475Z",
     "iopub.status.busy": "2022-10-19T07:26:28.956096Z",
     "iopub.status.idle": "2022-10-19T07:26:28.970103Z",
     "shell.execute_reply": "2022-10-19T07:26:28.968731Z",
     "shell.execute_reply.started": "2022-10-19T07:26:28.956422Z"
    }
   },
   "outputs": [
    {
     "name": "stdout",
     "output_type": "stream",
     "text": [
      "[[  0   0   0   0   0   0   0   0   0   0   0   0   0   0   0   0   0   0\n",
      "    0   0   0   0   0   0   0   0   0  28  11  22 104]]\n",
      "1/1 - 0s - 32ms/epoch - 32ms/step\n",
      "[0.78955424 0.21044576]\n",
      "negative\n"
     ]
    }
   ],
   "source": [
    "sample = ['Service is not good']\n",
    "sample = tokenizer.texts_to_sequences(sample)\n",
    "sample = pad_sequences(sample, maxlen=31, dtype='int32', value=0)\n",
    "print(sample)\n",
    "sentiment = model.predict(sample,batch_size=1,verbose = 2)[0]\n",
    "print(sentiment)\n",
    "if(np.argmax(sentiment) == 0):\n",
    "    print(\"negative\")\n",
    "elif (np.argmax(sentiment) == 1):\n",
    "    print(\"positive\")"
   ]
  },
  {
   "cell_type": "markdown",
   "metadata": {},
   "source": [
    "## Model 2"
   ]
  },
  {
   "cell_type": "code",
   "execution_count": 91,
   "metadata": {},
   "outputs": [],
   "source": [
    "model = Sequential()\n",
    "model.add(Embedding(max_fatures, 128, input_length=X_train.shape[1]))\n",
    "model.add(SimpleRNN(128, dropout = 0.3, recurrent_dropout = 0.3 ))\n",
    "model.add(Dropout(0.2))\n",
    "model.add(Dense(100, activation = 'relu'))\n",
    "model.add(Dropout(0.4))\n",
    "model.add(Dense(2, activation = 'softmax'))"
   ]
  },
  {
   "cell_type": "code",
   "execution_count": 92,
   "metadata": {},
   "outputs": [],
   "source": [
    "model.compile(optimizer=\"adam\", loss=\"sparse_categorical_crossentropy\", metrics=[\"accuracy\"])"
   ]
  },
  {
   "cell_type": "code",
   "execution_count": 93,
   "metadata": {},
   "outputs": [
    {
     "name": "stdout",
     "output_type": "stream",
     "text": [
      "Epoch 1/20\n",
      "115/115 [==============================] - 7s 41ms/step - loss: 0.7030 - accuracy: 0.5844 - val_loss: 0.6995 - val_accuracy: 0.4312\n",
      "Epoch 2/20\n",
      "115/115 [==============================] - 4s 37ms/step - loss: 0.6169 - accuracy: 0.6693 - val_loss: 1.0245 - val_accuracy: 0.4782\n",
      "Epoch 3/20\n",
      "115/115 [==============================] - 4s 37ms/step - loss: 0.4277 - accuracy: 0.8119 - val_loss: 0.3739 - val_accuracy: 0.8264\n",
      "Epoch 4/20\n",
      "115/115 [==============================] - 4s 37ms/step - loss: 0.2705 - accuracy: 0.8891 - val_loss: 0.5844 - val_accuracy: 0.8079\n",
      "Epoch 5/20\n",
      "115/115 [==============================] - 4s 37ms/step - loss: 0.2016 - accuracy: 0.9241 - val_loss: 1.3505 - val_accuracy: 0.6867\n",
      "Epoch 6/20\n",
      "115/115 [==============================] - 4s 37ms/step - loss: 0.1453 - accuracy: 0.9435 - val_loss: 0.7240 - val_accuracy: 0.8166\n",
      "Epoch 7/20\n",
      "115/115 [==============================] - 4s 37ms/step - loss: 0.1202 - accuracy: 0.9552 - val_loss: 0.3533 - val_accuracy: 0.9007\n",
      "Epoch 8/20\n",
      "115/115 [==============================] - 4s 37ms/step - loss: 0.0947 - accuracy: 0.9650 - val_loss: 0.7687 - val_accuracy: 0.8144\n",
      "Epoch 9/20\n",
      "115/115 [==============================] - 4s 37ms/step - loss: 0.0868 - accuracy: 0.9672 - val_loss: 0.6913 - val_accuracy: 0.8548\n",
      "Epoch 10/20\n",
      "115/115 [==============================] - 4s 36ms/step - loss: 0.0731 - accuracy: 0.9732 - val_loss: 0.5153 - val_accuracy: 0.9083\n",
      "Epoch 11/20\n",
      "115/115 [==============================] - 4s 37ms/step - loss: 0.0607 - accuracy: 0.9801 - val_loss: 0.7095 - val_accuracy: 0.8766\n",
      "Epoch 12/20\n",
      "115/115 [==============================] - 4s 37ms/step - loss: 0.0727 - accuracy: 0.9713 - val_loss: 0.3837 - val_accuracy: 0.8865\n",
      "Epoch 13/20\n",
      "115/115 [==============================] - 4s 37ms/step - loss: 0.0489 - accuracy: 0.9817 - val_loss: 0.5170 - val_accuracy: 0.8985\n",
      "Epoch 14/20\n",
      "115/115 [==============================] - 4s 37ms/step - loss: 0.0529 - accuracy: 0.9809 - val_loss: 0.4389 - val_accuracy: 0.8712\n",
      "Epoch 15/20\n",
      "115/115 [==============================] - 4s 37ms/step - loss: 0.0469 - accuracy: 0.9831 - val_loss: 0.6926 - val_accuracy: 0.9072\n",
      "Epoch 16/20\n",
      "115/115 [==============================] - 4s 37ms/step - loss: 0.0457 - accuracy: 0.9861 - val_loss: 0.6199 - val_accuracy: 0.8941\n",
      "Epoch 17/20\n",
      "115/115 [==============================] - 4s 37ms/step - loss: 0.0328 - accuracy: 0.9894 - val_loss: 0.8056 - val_accuracy: 0.8723\n",
      "Epoch 18/20\n",
      "115/115 [==============================] - 4s 37ms/step - loss: 0.0515 - accuracy: 0.9823 - val_loss: 0.5450 - val_accuracy: 0.9148\n",
      "Epoch 19/20\n",
      "115/115 [==============================] - 4s 37ms/step - loss: 0.0336 - accuracy: 0.9891 - val_loss: 0.7198 - val_accuracy: 0.8777\n",
      "Epoch 20/20\n",
      "115/115 [==============================] - 4s 37ms/step - loss: 0.0393 - accuracy: 0.9861 - val_loss: 0.6193 - val_accuracy: 0.8996\n"
     ]
    }
   ],
   "source": [
    "Model = model.fit(X_train,\n",
    "                  Y_train,\n",
    "                  epochs=20,\n",
    "                  batch_size=32,\n",
    "                  validation_split = 0.2,\n",
    "                  verbose = 1\n",
    "                 )"
   ]
  },
  {
   "cell_type": "code",
   "execution_count": 94,
   "metadata": {},
   "outputs": [
    {
     "name": "stdout",
     "output_type": "stream",
     "text": [
      "loss =  0.7108633518218994\n",
      "accuracy =  0.901681125164032\n"
     ]
    }
   ],
   "source": [
    "score = model.evaluate(X_test, Y_test, verbose=False)\n",
    "print(\"loss = \",score[0])\n",
    "print(\"accuracy = \",score[1])"
   ]
  },
  {
   "cell_type": "code",
   "execution_count": 95,
   "metadata": {},
   "outputs": [
    {
     "data": {
      "image/png": "[encoded data removed]",
      "text/plain": [
       "<Figure size 432x288 with 2 Axes>"
      ]
     },
     "metadata": {
      "needs_background": "light"
     },
     "output_type": "display_data"
    }
   ],
   "source": [
    "def plot_confusion_matrix(cm, classes,\n",
    "                          normalize=False,\n",
    "                          title='Confusion matrix',\n",
    "                          cmap=plt.cm.Blues):\n",
    "    plt.imshow(cm, interpolation='nearest', cmap=cmap)\n",
    "    plt.title(title)\n",
    "    plt.colorbar()\n",
    "    tick_marks = np.arange(len(classes))\n",
    "    plt.xticks(tick_marks, classes, rotation=45)\n",
    "    plt.yticks(tick_marks, classes)\n",
    "    if normalize:\n",
    "        cm = cm.astype('float') / cm.sum(axis=1)[:, np.newaxis]\n",
    "\n",
    "    thresh = cm.max() / 2.\n",
    "    for i, j in itertools.product(range(cm.shape[0]), range(cm.shape[1])):\n",
    "        plt.text(j, i, cm[i, j],\n",
    "                 horizontalalignment=\"center\",\n",
    "                 color=\"white\" if cm[i, j] > thresh else \"black\")\n",
    "\n",
    "    plt.tight_layout()\n",
    "    plt.ylabel('True label')\n",
    "    plt.xlabel('Predicted label')\n",
    "\n",
    "y_pred = model.predict(X_test)\n",
    "y_pred_classes = np.argmax(y_pred,axis = 1) \n",
    "confusion_mtx = confusion_matrix(Y_test, y_pred_classes) \n",
    "plot_confusion_matrix(confusion_mtx, classes = range(2)) "
   ]
  },
  {
   "cell_type": "markdown",
   "metadata": {},
   "source": [
    "## Model 3"
   ]
  },
  {
   "cell_type": "code",
   "execution_count": 96,
   "metadata": {},
   "outputs": [],
   "source": [
    "model = Sequential()\n",
    "model.add(Embedding(max_fatures, 128, input_length=X_train.shape[1]))\n",
    "model.add(SimpleRNN(64, dropout = 0.3, recurrent_dropout = 0.3 ))\n",
    "model.add(Dropout(0.2))\n",
    "model.add(Dense(100, activation = 'relu'))\n",
    "model.add(Dropout(0.4))\n",
    "model.add(Dense(2, activation = 'softmax'))"
   ]
  },
  {
   "cell_type": "code",
   "execution_count": 97,
   "metadata": {},
   "outputs": [],
   "source": [
    "model.compile(optimizer=\"adam\", loss=\"sparse_categorical_crossentropy\", metrics=[\"accuracy\"])"
   ]
  },
  {
   "cell_type": "code",
   "execution_count": 98,
   "metadata": {},
   "outputs": [
    {
     "name": "stdout",
     "output_type": "stream",
     "text": [
      "Epoch 1/20\n",
      "115/115 [==============================] - 6s 31ms/step - loss: 0.6780 - accuracy: 0.6090 - val_loss: 0.6362 - val_accuracy: 0.6365\n",
      "Epoch 2/20\n",
      "115/115 [==============================] - 3s 27ms/step - loss: 0.6020 - accuracy: 0.6955 - val_loss: 0.5201 - val_accuracy: 0.7522\n",
      "Epoch 3/20\n",
      "115/115 [==============================] - 3s 27ms/step - loss: 0.4342 - accuracy: 0.8034 - val_loss: 0.4733 - val_accuracy: 0.7784\n",
      "Epoch 4/20\n",
      "115/115 [==============================] - 3s 27ms/step - loss: 0.2656 - accuracy: 0.8965 - val_loss: 0.2542 - val_accuracy: 0.9116\n",
      "Epoch 5/20\n",
      "115/115 [==============================] - 3s 27ms/step - loss: 0.1768 - accuracy: 0.9342 - val_loss: 0.3267 - val_accuracy: 0.8919\n",
      "Epoch 6/20\n",
      "115/115 [==============================] - 3s 27ms/step - loss: 0.1484 - accuracy: 0.9481 - val_loss: 0.3585 - val_accuracy: 0.9094\n",
      "Epoch 7/20\n",
      "115/115 [==============================] - 3s 27ms/step - loss: 0.1133 - accuracy: 0.9610 - val_loss: 0.5489 - val_accuracy: 0.8821\n",
      "Epoch 8/20\n",
      "115/115 [==============================] - 3s 27ms/step - loss: 0.1043 - accuracy: 0.9623 - val_loss: 0.4024 - val_accuracy: 0.9159\n",
      "Epoch 9/20\n",
      "115/115 [==============================] - 3s 27ms/step - loss: 0.0976 - accuracy: 0.9675 - val_loss: 0.3922 - val_accuracy: 0.9138\n",
      "Epoch 10/20\n",
      "115/115 [==============================] - 3s 27ms/step - loss: 0.0681 - accuracy: 0.9765 - val_loss: 0.4848 - val_accuracy: 0.8865\n",
      "Epoch 11/20\n",
      "115/115 [==============================] - 3s 27ms/step - loss: 0.0600 - accuracy: 0.9795 - val_loss: 0.4689 - val_accuracy: 0.8985\n",
      "Epoch 12/20\n",
      "115/115 [==============================] - 3s 27ms/step - loss: 0.0569 - accuracy: 0.9814 - val_loss: 0.5275 - val_accuracy: 0.8974\n",
      "Epoch 13/20\n",
      "115/115 [==============================] - 3s 27ms/step - loss: 0.0528 - accuracy: 0.9814 - val_loss: 0.6108 - val_accuracy: 0.8897\n",
      "Epoch 14/20\n",
      "115/115 [==============================] - 3s 27ms/step - loss: 0.0461 - accuracy: 0.9869 - val_loss: 0.5912 - val_accuracy: 0.8963\n",
      "Epoch 15/20\n",
      "115/115 [==============================] - 3s 27ms/step - loss: 0.0555 - accuracy: 0.9803 - val_loss: 0.5778 - val_accuracy: 0.8941\n",
      "Epoch 16/20\n",
      "115/115 [==============================] - 3s 27ms/step - loss: 0.0457 - accuracy: 0.9869 - val_loss: 0.5585 - val_accuracy: 0.8930\n",
      "Epoch 17/20\n",
      "115/115 [==============================] - 3s 27ms/step - loss: 0.0492 - accuracy: 0.9828 - val_loss: 0.5348 - val_accuracy: 0.8952\n",
      "Epoch 18/20\n",
      "115/115 [==============================] - 3s 27ms/step - loss: 0.0362 - accuracy: 0.9894 - val_loss: 0.5459 - val_accuracy: 0.8974\n",
      "Epoch 19/20\n",
      "115/115 [==============================] - 3s 27ms/step - loss: 0.0261 - accuracy: 0.9918 - val_loss: 0.7887 - val_accuracy: 0.8908\n",
      "Epoch 20/20\n",
      "115/115 [==============================] - 3s 27ms/step - loss: 0.0334 - accuracy: 0.9894 - val_loss: 0.6945 - val_accuracy: 0.8821\n"
     ]
    }
   ],
   "source": [
    "Model = model.fit(X_train,\n",
    "                  Y_train,\n",
    "                  epochs=20,\n",
    "                  batch_size=32,\n",
    "                  validation_split = 0.2,\n",
    "                  verbose = 1\n",
    "                 )"
   ]
  },
  {
   "cell_type": "code",
   "execution_count": 99,
   "metadata": {},
   "outputs": [
    {
     "name": "stdout",
     "output_type": "stream",
     "text": [
      "loss =  0.7167290449142456\n",
      "accuracy =  0.8914926052093506\n"
     ]
    }
   ],
   "source": [
    "score = model.evaluate(X_test, Y_test, verbose=False)\n",
    "print(\"loss = \",score[0])\n",
    "print(\"accuracy = \",score[1])"
   ]
  },
  {
   "cell_type": "markdown",
   "metadata": {},
   "source": [
    "### Inferences:\n",
    "\n",
    "1. There are 3 models with different number of RNN units in a layer - **196, 128 and 64** units.\n",
    "2. The model with 128 units in a layer provided the highest accuracy of **90.16%**\n",
    "3. Model with **196** units did not perform as expected, as it was an overkill for such an application.\n",
    "4. Validation loss and accuracy was very erratic after each and every epoch, for all 3 models, suggesting that the model might be given random predictions."
   ]
  },
  {
   "cell_type": "code",
   "execution_count": null,
   "metadata": {},
   "outputs": [],
   "source": []
  }
 ],
 "metadata": {
  "kernelspec": {
   "display_name": "Python 3",
   "language": "python",
   "name": "python3"
  },
  "language_info": {
   "codemirror_mode": {
    "name": "ipython",
    "version": 3
   },
   "file_extension": ".py",
   "mimetype": "text/x-python",
   "name": "python",
   "nbconvert_exporter": "python",
   "pygments_lexer": "ipython3",
   "version": "3.10.4"
  }
 },
 "nbformat": 4,
 "nbformat_minor": 4
}
