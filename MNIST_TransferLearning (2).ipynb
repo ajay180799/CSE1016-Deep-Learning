{
 "cells": [
  {
   "cell_type": "code",
   "execution_count": null,
   "metadata": {
    "id": "4rHyKIF5jvOy"
   },
   "outputs": [],
   "source": [
    "import tensorflow as tf\n",
    "import matplotlib.pyplot as plt\n",
    "from tensorflow.keras import datasets, layers, models, losses, Model\n",
    "from tensorflow.keras.utils import Sequence"
   ]
  },
  {
   "cell_type": "code",
   "execution_count": null,
   "metadata": {
    "colab": {
     "base_uri": "https://localhost:8080/"
    },
    "id": "MaJRbSszjl_L",
    "outputId": "5f5b264c-326e-4e8e-c909-43cc6dc2e9a1"
   },
   "outputs": [
    {
     "name": "stdout",
     "output_type": "stream",
     "text": [
      "Downloading data from https://storage.googleapis.com/tensorflow/tf-keras-datasets/mnist.npz\n",
      "11493376/11490434 [==============================] - 0s 0us/step\n",
      "11501568/11490434 [==============================] - 0s 0us/step\n"
     ]
    }
   ],
   "source": [
    "from keras.datasets import mnist\n",
    "(X_train, y_train), (X_test, y_test) = mnist.load_data()"
   ]
  },
  {
   "cell_type": "code",
   "execution_count": null,
   "metadata": {
    "id": "k-9lk6EvZ2xD"
   },
   "outputs": [],
   "source": []
  },
  {
   "cell_type": "code",
   "execution_count": null,
   "metadata": {
    "colab": {
     "base_uri": "https://localhost:8080/"
    },
    "id": "kiLkc8YpjnU8",
    "outputId": "a5b91c81-f162-42b0-899b-15b018589a33"
   },
   "outputs": [
    {
     "data": {
      "text/plain": [
       "(TensorShape([57000, 32, 32, 3]), TensorShape([10000, 32, 32, 3]))"
      ]
     },
     "execution_count": 4,
     "metadata": {},
     "output_type": "execute_result"
    }
   ],
   "source": [
    "X_train = tf.pad(X_train, [[0,0], [2,2], [2,2]])/255\n",
    "X_test = tf.pad(X_test, [[0,0], [2,2], [2,2]])/255\n",
    "X_test = tf.expand_dims(X_test, axis=3, name = None)\n",
    "X_train = tf.expand_dims(X_train, axis=3, name=None)\n",
    "X_train = tf.repeat(X_train, 3, axis=3)\n",
    "X_test = tf.repeat(X_test, 3, axis=3)\n",
    "X_val = X_train[-3000:, :, :]\n",
    "y_val = y_train[-3000:]\n",
    "X_train = X_train[: -3000, :, :]\n",
    "y_train = y_train[: -3000]\n",
    "X_train.shape, X_test.shape"
   ]
  },
  {
   "cell_type": "code",
   "execution_count": null,
   "metadata": {
    "colab": {
     "base_uri": "https://localhost:8080/"
    },
    "id": "19DGg5Rcj66s",
    "outputId": "7f6bf769-8aa2-4816-c837-b9921f33c6e2"
   },
   "outputs": [
    {
     "name": "stdout",
     "output_type": "stream",
     "text": [
      "Downloading data from https://storage.googleapis.com/tensorflow/keras-applications/resnet/resnet50_weights_tf_dim_ordering_tf_kernels_notop.h5\n",
      "94773248/94765736 [==============================] - 2s 0us/step\n",
      "94781440/94765736 [==============================] - 2s 0us/step\n"
     ]
    }
   ],
   "source": [
    "base_model = tf.keras.applications.ResNet50(weights = 'imagenet', include_top = False, input_shape = (32,32,3))\n",
    "for layer in base_model.layers:\n",
    "  layer.trainable = False"
   ]
  },
  {
   "cell_type": "code",
   "execution_count": null,
   "metadata": {
    "id": "Z_hPR24VfO8V"
   },
   "outputs": [],
   "source": [
    "base_model = tf.keras.applications.ResNet152(weights = 'imagenet', include_top = False, input_shape = (32,32,3))\n",
    "for layer in base_model.layers:\n",
    "  layer.trainable = False"
   ]
  },
  {
   "cell_type": "code",
   "execution_count": null,
   "metadata": {
    "id": "atff0ACS8z9a"
   },
   "outputs": [],
   "source": [
    "from tensorflow.keras.models import Sequential\n",
    "from tensorflow.keras.layers import Dense, Conv2D, Flatten"
   ]
  },
  {
   "cell_type": "code",
   "execution_count": null,
   "metadata": {
    "id": "vz7gkf3q9rlB"
   },
   "outputs": [],
   "source": [
    "model = layers.Flatten()(base_model.output)\n",
    "model = layers.Dense(500, activation='relu')(model)\n",
    "pred = layers.Dense(10, activation='softmax')(model)"
   ]
  },
  {
   "cell_type": "code",
   "execution_count": null,
   "metadata": {
    "id": "wvww_iEHAghG"
   },
   "outputs": [],
   "source": [
    "model_head = Model(inputs = base_model.input, outputs = pred)\n",
    "model_head.compile(optimizer= tf.keras.optimizers.Adam(), loss='sparse_categorical_crossentropy',\n",
    "                   metrics = ['accuracy'])\n"
   ]
  },
  {
   "cell_type": "code",
   "execution_count": null,
   "metadata": {
    "colab": {
     "base_uri": "https://localhost:8080/"
    },
    "id": "wXkaC_uDGwz3",
    "outputId": "d07eea9d-ebf9-47a3-f938-c53b55c8f765"
   },
   "outputs": [
    {
     "name": "stdout",
     "output_type": "stream",
     "text": [
      "Epoch 1/50\n",
      "112/112 [==============================] - 22s 133ms/step - loss: 1.4329 - accuracy: 0.5575 - val_loss: 0.9557 - val_accuracy: 0.7137\n",
      "Epoch 2/50\n",
      "112/112 [==============================] - 13s 113ms/step - loss: 0.9153 - accuracy: 0.7107 - val_loss: 0.7337 - val_accuracy: 0.7840\n",
      "Epoch 3/50\n",
      "112/112 [==============================] - 13s 114ms/step - loss: 0.7638 - accuracy: 0.7606 - val_loss: 0.6109 - val_accuracy: 0.8130\n",
      "Epoch 4/50\n",
      "112/112 [==============================] - 13s 114ms/step - loss: 0.6779 - accuracy: 0.7884 - val_loss: 0.5531 - val_accuracy: 0.8350\n",
      "Epoch 5/50\n",
      "112/112 [==============================] - 13s 113ms/step - loss: 0.6234 - accuracy: 0.8055 - val_loss: 0.4943 - val_accuracy: 0.8493\n",
      "Epoch 6/50\n",
      "112/112 [==============================] - 13s 112ms/step - loss: 0.5817 - accuracy: 0.8185 - val_loss: 0.4627 - val_accuracy: 0.8613\n",
      "Epoch 7/50\n",
      "112/112 [==============================] - 13s 113ms/step - loss: 0.5511 - accuracy: 0.8275 - val_loss: 0.4435 - val_accuracy: 0.8667\n",
      "Epoch 8/50\n",
      "112/112 [==============================] - 13s 113ms/step - loss: 0.5303 - accuracy: 0.8336 - val_loss: 0.4061 - val_accuracy: 0.8820\n",
      "Epoch 9/50\n",
      "112/112 [==============================] - 13s 113ms/step - loss: 0.5061 - accuracy: 0.8409 - val_loss: 0.3940 - val_accuracy: 0.8873\n",
      "Epoch 10/50\n",
      "112/112 [==============================] - 13s 114ms/step - loss: 0.4880 - accuracy: 0.8472 - val_loss: 0.3756 - val_accuracy: 0.8903\n",
      "Epoch 11/50\n",
      "112/112 [==============================] - 13s 112ms/step - loss: 0.4732 - accuracy: 0.8511 - val_loss: 0.3606 - val_accuracy: 0.8917\n",
      "Epoch 12/50\n",
      "112/112 [==============================] - 13s 112ms/step - loss: 0.4627 - accuracy: 0.8540 - val_loss: 0.3670 - val_accuracy: 0.8867\n",
      "Epoch 13/50\n",
      "112/112 [==============================] - 13s 113ms/step - loss: 0.4505 - accuracy: 0.8568 - val_loss: 0.3457 - val_accuracy: 0.8983\n",
      "Epoch 14/50\n",
      "112/112 [==============================] - 13s 113ms/step - loss: 0.4334 - accuracy: 0.8620 - val_loss: 0.3480 - val_accuracy: 0.8967\n",
      "Epoch 15/50\n",
      "112/112 [==============================] - 13s 112ms/step - loss: 0.4291 - accuracy: 0.8638 - val_loss: 0.3224 - val_accuracy: 0.9080\n",
      "Epoch 16/50\n",
      "112/112 [==============================] - 13s 113ms/step - loss: 0.4165 - accuracy: 0.8680 - val_loss: 0.3239 - val_accuracy: 0.9080\n",
      "Epoch 17/50\n",
      "112/112 [==============================] - 13s 113ms/step - loss: 0.4057 - accuracy: 0.8709 - val_loss: 0.3162 - val_accuracy: 0.9070\n",
      "Epoch 18/50\n",
      "112/112 [==============================] - 13s 113ms/step - loss: 0.3978 - accuracy: 0.8739 - val_loss: 0.3148 - val_accuracy: 0.9080\n",
      "Epoch 19/50\n",
      "112/112 [==============================] - 13s 113ms/step - loss: 0.3956 - accuracy: 0.8723 - val_loss: 0.2931 - val_accuracy: 0.9130\n",
      "Epoch 20/50\n",
      "112/112 [==============================] - 13s 112ms/step - loss: 0.3804 - accuracy: 0.8783 - val_loss: 0.2918 - val_accuracy: 0.9130\n",
      "Epoch 21/50\n",
      "112/112 [==============================] - 13s 113ms/step - loss: 0.3782 - accuracy: 0.8797 - val_loss: 0.3003 - val_accuracy: 0.9117\n",
      "Epoch 22/50\n",
      "112/112 [==============================] - 13s 113ms/step - loss: 0.3737 - accuracy: 0.8806 - val_loss: 0.2989 - val_accuracy: 0.9063\n",
      "Epoch 23/50\n",
      "112/112 [==============================] - 13s 112ms/step - loss: 0.3684 - accuracy: 0.8811 - val_loss: 0.2818 - val_accuracy: 0.9183\n",
      "Epoch 24/50\n",
      "112/112 [==============================] - 13s 114ms/step - loss: 0.3610 - accuracy: 0.8841 - val_loss: 0.2833 - val_accuracy: 0.9137\n",
      "Epoch 25/50\n",
      "112/112 [==============================] - 13s 112ms/step - loss: 0.3517 - accuracy: 0.8882 - val_loss: 0.2842 - val_accuracy: 0.9187\n",
      "Epoch 26/50\n",
      "112/112 [==============================] - 13s 112ms/step - loss: 0.3467 - accuracy: 0.8892 - val_loss: 0.2681 - val_accuracy: 0.9247\n",
      "Epoch 27/50\n",
      "112/112 [==============================] - 13s 113ms/step - loss: 0.3422 - accuracy: 0.8909 - val_loss: 0.2654 - val_accuracy: 0.9243\n",
      "Epoch 28/50\n",
      "112/112 [==============================] - 13s 114ms/step - loss: 0.3441 - accuracy: 0.8904 - val_loss: 0.2788 - val_accuracy: 0.9207\n",
      "Epoch 29/50\n",
      "112/112 [==============================] - 13s 113ms/step - loss: 0.3377 - accuracy: 0.8923 - val_loss: 0.2557 - val_accuracy: 0.9260\n",
      "Epoch 30/50\n",
      "112/112 [==============================] - 13s 113ms/step - loss: 0.3266 - accuracy: 0.8956 - val_loss: 0.2505 - val_accuracy: 0.9290\n",
      "Epoch 31/50\n",
      "112/112 [==============================] - 13s 112ms/step - loss: 0.3248 - accuracy: 0.8963 - val_loss: 0.2487 - val_accuracy: 0.9283\n",
      "Epoch 32/50\n",
      "112/112 [==============================] - 13s 113ms/step - loss: 0.3232 - accuracy: 0.8975 - val_loss: 0.2730 - val_accuracy: 0.9213\n",
      "Epoch 33/50\n",
      "112/112 [==============================] - 13s 113ms/step - loss: 0.3213 - accuracy: 0.8971 - val_loss: 0.2407 - val_accuracy: 0.9320\n",
      "Epoch 34/50\n",
      "112/112 [==============================] - 13s 113ms/step - loss: 0.3140 - accuracy: 0.8995 - val_loss: 0.2453 - val_accuracy: 0.9280\n",
      "Epoch 35/50\n",
      "112/112 [==============================] - 13s 113ms/step - loss: 0.3148 - accuracy: 0.8990 - val_loss: 0.2609 - val_accuracy: 0.9150\n",
      "Epoch 36/50\n",
      "112/112 [==============================] - 13s 113ms/step - loss: 0.3066 - accuracy: 0.9019 - val_loss: 0.2426 - val_accuracy: 0.9303\n",
      "Epoch 37/50\n",
      "112/112 [==============================] - 13s 113ms/step - loss: 0.3045 - accuracy: 0.9032 - val_loss: 0.2415 - val_accuracy: 0.9283\n",
      "Epoch 38/50\n",
      "112/112 [==============================] - 13s 113ms/step - loss: 0.3018 - accuracy: 0.9027 - val_loss: 0.2266 - val_accuracy: 0.9373\n",
      "Epoch 39/50\n",
      "112/112 [==============================] - 13s 113ms/step - loss: 0.2955 - accuracy: 0.9055 - val_loss: 0.2409 - val_accuracy: 0.9287\n",
      "Epoch 40/50\n",
      "112/112 [==============================] - 13s 113ms/step - loss: 0.2961 - accuracy: 0.9055 - val_loss: 0.2317 - val_accuracy: 0.9323\n",
      "Epoch 41/50\n",
      "112/112 [==============================] - 13s 113ms/step - loss: 0.2912 - accuracy: 0.9070 - val_loss: 0.2193 - val_accuracy: 0.9380\n",
      "Epoch 42/50\n",
      "112/112 [==============================] - 13s 113ms/step - loss: 0.2861 - accuracy: 0.9089 - val_loss: 0.2280 - val_accuracy: 0.9343\n",
      "Epoch 43/50\n",
      "112/112 [==============================] - 13s 114ms/step - loss: 0.2871 - accuracy: 0.9091 - val_loss: 0.2225 - val_accuracy: 0.9343\n",
      "Epoch 44/50\n",
      "112/112 [==============================] - 13s 113ms/step - loss: 0.2836 - accuracy: 0.9095 - val_loss: 0.2166 - val_accuracy: 0.9383\n",
      "Epoch 45/50\n",
      "112/112 [==============================] - 13s 113ms/step - loss: 0.2857 - accuracy: 0.9076 - val_loss: 0.2231 - val_accuracy: 0.9357\n",
      "Epoch 46/50\n",
      "112/112 [==============================] - 13s 113ms/step - loss: 0.2809 - accuracy: 0.9099 - val_loss: 0.2342 - val_accuracy: 0.9267\n",
      "Epoch 47/50\n",
      "112/112 [==============================] - 13s 113ms/step - loss: 0.2776 - accuracy: 0.9123 - val_loss: 0.2113 - val_accuracy: 0.9420\n",
      "Epoch 48/50\n",
      "112/112 [==============================] - 13s 113ms/step - loss: 0.2710 - accuracy: 0.9135 - val_loss: 0.2193 - val_accuracy: 0.9367\n",
      "Epoch 49/50\n",
      "112/112 [==============================] - 13s 113ms/step - loss: 0.2736 - accuracy: 0.9127 - val_loss: 0.2146 - val_accuracy: 0.9393\n",
      "Epoch 50/50\n",
      "112/112 [==============================] - 13s 113ms/step - loss: 0.2695 - accuracy: 0.9143 - val_loss: 0.2083 - val_accuracy: 0.9420\n"
     ]
    }
   ],
   "source": [
    "history = model_head.fit(X_train, y_train, batch_size=512, epochs=50, validation_data=(X_val, y_val))"
   ]
  },
  {
   "cell_type": "code",
   "execution_count": null,
   "metadata": {
    "colab": {
     "base_uri": "https://localhost:8080/",
     "height": 235
    },
    "id": "GZhJeUWKm5DR",
    "outputId": "2da9c9be-95f9-4580-b171-8a6747717f0c"
   },
   "outputs": [
    {
     "ename": "NameError",
     "evalue": "ignored",
     "output_type": "error",
     "traceback": [
      "\u001b[0;31m---------------------------------------------------------------------------\u001b[0m",
      "\u001b[0;31mNameError\u001b[0m                                 Traceback (most recent call last)",
      "\u001b[0;32m<ipython-input-1-0cd5b26a3d2f>\u001b[0m in \u001b[0;36m<module>\u001b[0;34m\u001b[0m\n\u001b[0;32m----> 1\u001b[0;31m \u001b[0mfig\u001b[0m\u001b[0;34m,\u001b[0m \u001b[0maxs\u001b[0m \u001b[0;34m=\u001b[0m \u001b[0mplt\u001b[0m\u001b[0;34m.\u001b[0m\u001b[0msubplots\u001b[0m\u001b[0;34m(\u001b[0m\u001b[0;36m2\u001b[0m\u001b[0;34m,\u001b[0m \u001b[0;36m1\u001b[0m\u001b[0;34m,\u001b[0m \u001b[0mfigsize\u001b[0m\u001b[0;34m=\u001b[0m\u001b[0;34m(\u001b[0m\u001b[0;36m15\u001b[0m\u001b[0;34m,\u001b[0m\u001b[0;36m15\u001b[0m\u001b[0;34m)\u001b[0m\u001b[0;34m)\u001b[0m\u001b[0;34m\u001b[0m\u001b[0;34m\u001b[0m\u001b[0m\n\u001b[0m\u001b[1;32m      2\u001b[0m \u001b[0;34m\u001b[0m\u001b[0m\n\u001b[1;32m      3\u001b[0m \u001b[0maxs\u001b[0m\u001b[0;34m[\u001b[0m\u001b[0;36m0\u001b[0m\u001b[0;34m]\u001b[0m\u001b[0;34m.\u001b[0m\u001b[0mplot\u001b[0m\u001b[0;34m(\u001b[0m\u001b[0mhistory\u001b[0m\u001b[0;34m.\u001b[0m\u001b[0mhistory\u001b[0m\u001b[0;34m[\u001b[0m\u001b[0;34m'loss'\u001b[0m\u001b[0;34m]\u001b[0m\u001b[0;34m)\u001b[0m\u001b[0;34m\u001b[0m\u001b[0;34m\u001b[0m\u001b[0m\n\u001b[1;32m      4\u001b[0m \u001b[0maxs\u001b[0m\u001b[0;34m[\u001b[0m\u001b[0;36m0\u001b[0m\u001b[0;34m]\u001b[0m\u001b[0;34m.\u001b[0m\u001b[0mplot\u001b[0m\u001b[0;34m(\u001b[0m\u001b[0mhistory\u001b[0m\u001b[0;34m.\u001b[0m\u001b[0mhistory\u001b[0m\u001b[0;34m[\u001b[0m\u001b[0;34m'val_loss'\u001b[0m\u001b[0;34m]\u001b[0m\u001b[0;34m)\u001b[0m\u001b[0;34m\u001b[0m\u001b[0;34m\u001b[0m\u001b[0m\n\u001b[1;32m      5\u001b[0m \u001b[0maxs\u001b[0m\u001b[0;34m[\u001b[0m\u001b[0;36m0\u001b[0m\u001b[0;34m]\u001b[0m\u001b[0;34m.\u001b[0m\u001b[0mtitle\u001b[0m\u001b[0;34m.\u001b[0m\u001b[0mset_text\u001b[0m\u001b[0;34m(\u001b[0m\u001b[0;34m'Training Loss vs Validation Loss'\u001b[0m\u001b[0;34m)\u001b[0m\u001b[0;34m\u001b[0m\u001b[0;34m\u001b[0m\u001b[0m\n",
      "\u001b[0;31mNameError\u001b[0m: name 'plt' is not defined"
     ]
    }
   ],
   "source": [
    "fig, axs = plt.subplots(2, 1, figsize=(15,15))\n",
    "\n",
    "axs[0].plot(history.history['loss'])\n",
    "axs[0].plot(history.history['val_loss'])\n",
    "axs[0].title.set_text('Training Loss vs Validation Loss')\n",
    "axs[0].set_xlabel('Epochs')\n",
    "axs[0].set_ylabel('Loss')\n",
    "axs[0].legend(['Train','Val'])\n",
    "\n",
    "axs[1].plot(history.history['accuracy'])\n",
    "axs[1].plot(history.history['val_accuracy'])\n",
    "axs[1].title.set_text('Training Accuracy vs Validation Accuracy')\n",
    "axs[1].set_xlabel('Epochs')\n",
    "axs[1].set_ylabel('Accuracy')\n",
    "axs[1].legend(['Train', 'Val'])"
   ]
  },
  {
   "cell_type": "code",
   "execution_count": null,
   "metadata": {
    "colab": {
     "base_uri": "https://localhost:8080/",
     "height": 217
    },
    "id": "7Y_hiqJ7HuIq",
    "outputId": "72c24cde-4eb0-4bca-a36a-e1b24daf1015"
   },
   "outputs": [
    {
     "ename": "NameError",
     "evalue": "ignored",
     "output_type": "error",
     "traceback": [
      "\u001b[0;31m---------------------------------------------------------------------------\u001b[0m",
      "\u001b[0;31mNameError\u001b[0m                                 Traceback (most recent call last)",
      "\u001b[0;32m<ipython-input-1-2cf7f09236d9>\u001b[0m in \u001b[0;36m<module>\u001b[0;34m\u001b[0m\n\u001b[0;32m----> 1\u001b[0;31m \u001b[0mbase_model\u001b[0m \u001b[0;34m=\u001b[0m \u001b[0mtf\u001b[0m\u001b[0;34m.\u001b[0m\u001b[0mkeras\u001b[0m\u001b[0;34m.\u001b[0m\u001b[0mapplications\u001b[0m\u001b[0;34m.\u001b[0m\u001b[0mResNet50\u001b[0m\u001b[0;34m(\u001b[0m\u001b[0mweights\u001b[0m \u001b[0;34m=\u001b[0m \u001b[0;34m'imagenet'\u001b[0m\u001b[0;34m,\u001b[0m \u001b[0minclude_top\u001b[0m \u001b[0;34m=\u001b[0m \u001b[0;32mFalse\u001b[0m\u001b[0;34m,\u001b[0m \u001b[0minput_shape\u001b[0m \u001b[0;34m=\u001b[0m \u001b[0;34m(\u001b[0m\u001b[0;36m32\u001b[0m\u001b[0;34m,\u001b[0m\u001b[0;36m32\u001b[0m\u001b[0;34m,\u001b[0m\u001b[0;36m3\u001b[0m\u001b[0;34m)\u001b[0m\u001b[0;34m)\u001b[0m\u001b[0;34m\u001b[0m\u001b[0;34m\u001b[0m\u001b[0m\n\u001b[0m\u001b[1;32m      2\u001b[0m \u001b[0;32mfor\u001b[0m \u001b[0mlayer\u001b[0m \u001b[0;32min\u001b[0m \u001b[0mbase_model\u001b[0m\u001b[0;34m.\u001b[0m\u001b[0mlayers\u001b[0m\u001b[0;34m:\u001b[0m\u001b[0;34m\u001b[0m\u001b[0;34m\u001b[0m\u001b[0m\n\u001b[1;32m      3\u001b[0m   \u001b[0mlayer\u001b[0m\u001b[0;34m.\u001b[0m\u001b[0mtrainable\u001b[0m \u001b[0;34m=\u001b[0m \u001b[0;32mFalse\u001b[0m\u001b[0;34m\u001b[0m\u001b[0;34m\u001b[0m\u001b[0m\n",
      "\u001b[0;31mNameError\u001b[0m: name 'tf' is not defined"
     ]
    }
   ],
   "source": [
    "base_model = tf.keras.applications.ResNet50(weights = 'imagenet', include_top = False, input_shape = (32,32,3))\n",
    "for layer in base_model.layers:\n",
    "  layer.trainable = False"
   ]
  },
  {
   "cell_type": "code",
   "execution_count": null,
   "metadata": {
    "id": "EL_PlHbKWW3J"
   },
   "outputs": [],
   "source": []
  }
 ],
 "metadata": {
  "accelerator": "GPU",
  "colab": {
   "provenance": []
  },
  "kernelspec": {
   "display_name": "Python 3",
   "language": "python",
   "name": "python3"
  },
  "language_info": {
   "codemirror_mode": {
    "name": "ipython",
    "version": 3
   },
   "file_extension": ".py",
   "mimetype": "text/x-python",
   "name": "python",
   "nbconvert_exporter": "python",
   "pygments_lexer": "ipython3",
   "version": "3.10.4"
  }
 },
 "nbformat": 4,
 "nbformat_minor": 1
}
